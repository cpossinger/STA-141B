{
 "cells": [
  {
   "cell_type": "markdown",
   "metadata": {},
   "source": [
    "# STA 141B Assignment 5\n",
    "\n",
    "Due __March 17, 2023__ by 11:59pm. Submit by editing this file and then uploading to Canvas.\n",
    "\n",
    "Please rename this file with __\"LastName_FirstName_hw5\"__ \n",
    "\n",
    "The purpose of this assignment is to practice accessing and analyzing data in a database.\n",
    "\n",
    "Notes: \n",
    "1. Put your answers in new cells after each exercise. You can make as many new cells as you like. Use code cells for code and Markdown cells for text. Answer all questions with complete sentences.\n",
    "\n",
    "2. Your code should be readable; writing a piece of code should be compared to writing a page of a book. Adopt the __one-statement-per-line__ rule. The lenghth of your code should not exceed the maximum length of each cell for display. If your code is too long, you should split it into multiple lines to improve readability. (You will lose one point for each line that does not follow the rule.)\n",
    "\n",
    "3. To help understand and maintain code, you should always add comments to explain your code. Use the hash symbol (#) to start writing a comment (homework without any comments will automatically receive 0 points). If you are writing a function, consider using _docstring_ to add explanation. \n",
    "\n",
    "4. Submit your final work with a __.pdf__ (or a __.html__) file to Canvas. To convert a .ipynb file to a .pdf/.html file, go to \"File\", click \"Download as\", and then click \"PDF via LaTeX\"/\"HTML\". \n",
    "\n",
    "5. Please do not clear your output so that we can see your answers without running all of the cells.\n",
    "\n",
    "__For full credit, do most of your work in SQL.__ Subsetting, sorting, grouping, aggregation, and merging can all be done in SQL. It is okay to use Python code for parts of your analysis that are difficult or impossible to do in SQL, such as creating visualizations or computing statistics (other than the mean)."
   ]
  },
  {
   "cell_type": "markdown",
   "metadata": {},
   "source": [
    "## Lahman's Baseball Database\n",
    "\n",
    "In this assignment, you'll use SQL queries and __pandas__ to explore data in [Lahman's Baseball Database](http://www.seanlahman.com/baseball-archive/statistics/), which contains \"complete batting and pitching statistics from 1871 to 2020, plus fielding statistics, standings, team stats, managerial records, post-season data, and more.\"\n",
    "\n",
    "We use the 2019 version for this homework. You can find the database in SQLite format in the hw5 folder on Piazza.\n",
    "\n",
    "Documentation for the database, including a description of all tables, is in the `readme2019.txt` file included in this repository."
   ]
  },
  {
   "cell_type": "markdown",
   "metadata": {
    "tags": [
     "exercise"
    ]
   },
   "source": [
    "__Exercises:__\n",
    "\n",
    "1. (3 points) From 2006 to 2016, which 5 teams had the highest payrolls? Payroll means the sum of the salaries for all people on the team in a given year."
   ]
  },
  {
   "cell_type": "code",
   "execution_count": 6,
   "metadata": {},
   "outputs": [
    {
     "data": {
      "text/plain": [
       "[(0, 'ID', 'INTEGER', 1, None, 1),\n",
       " (1, 'yearID', 'SMALLINT', 1, None, 0),\n",
       " (2, 'teamID', 'CHARACTER(3)', 1, None, 0),\n",
       " (3, 'team_ID', 'INTEGER', 0, None, 0),\n",
       " (4, 'lgID', 'CHARACTER(2)', 1, None, 0),\n",
       " (5, 'playerID', 'VARCHAR(9)', 1, None, 0),\n",
       " (6, 'salary', 'DOUBLE', 0, None, 0)]"
      ]
     },
     "execution_count": 6,
     "metadata": {},
     "output_type": "execute_result"
    }
   ],
   "source": [
    "import sqlite3\n",
    "import pandas as pd\n",
    "import seaborn as sns\n",
    "import matplotlib.pyplot as plt\n",
    "import plotly.express as px\n",
    "\n",
    "conn = sqlite3.connect(\"lahmansbaseballdb.sqlite\")\n",
    "c = conn.cursor()\n",
    "c.execute(\"pragma table_info(Salaries)\")\n",
    "results = c.fetchall()\n",
    "results\n",
    "\n",
    "\n"
   ]
  },
  {
   "cell_type": "code",
   "execution_count": 7,
   "metadata": {},
   "outputs": [
    {
     "data": {
      "text/html": [
       "<div>\n",
       "<style scoped>\n",
       "    .dataframe tbody tr th:only-of-type {\n",
       "        vertical-align: middle;\n",
       "    }\n",
       "\n",
       "    .dataframe tbody tr th {\n",
       "        vertical-align: top;\n",
       "    }\n",
       "\n",
       "    .dataframe thead th {\n",
       "        text-align: right;\n",
       "    }\n",
       "</style>\n",
       "<table border=\"1\" class=\"dataframe\">\n",
       "  <thead>\n",
       "    <tr style=\"text-align: right;\">\n",
       "      <th></th>\n",
       "      <th>teamID</th>\n",
       "      <th>max_payroll</th>\n",
       "      <th>yearID</th>\n",
       "    </tr>\n",
       "  </thead>\n",
       "  <tbody>\n",
       "    <tr>\n",
       "      <th>0</th>\n",
       "      <td>NYA</td>\n",
       "      <td>231978886.0</td>\n",
       "      <td>2013</td>\n",
       "    </tr>\n",
       "    <tr>\n",
       "      <th>1</th>\n",
       "      <td>LAN</td>\n",
       "      <td>223362196.0</td>\n",
       "      <td>2013</td>\n",
       "    </tr>\n",
       "    <tr>\n",
       "      <th>2</th>\n",
       "      <td>DET</td>\n",
       "      <td>194876481.0</td>\n",
       "      <td>2016</td>\n",
       "    </tr>\n",
       "    <tr>\n",
       "      <th>3</th>\n",
       "      <td>BOS</td>\n",
       "      <td>188545761.0</td>\n",
       "      <td>2016</td>\n",
       "    </tr>\n",
       "    <tr>\n",
       "      <th>4</th>\n",
       "      <td>PHI</td>\n",
       "      <td>180944967.0</td>\n",
       "      <td>2014</td>\n",
       "    </tr>\n",
       "  </tbody>\n",
       "</table>\n",
       "</div>"
      ],
      "text/plain": [
       "  teamID  max_payroll  yearID\n",
       "0    NYA  231978886.0    2013\n",
       "1    LAN  223362196.0    2013\n",
       "2    DET  194876481.0    2016\n",
       "3    BOS  188545761.0    2016\n",
       "4    PHI  180944967.0    2014"
      ]
     },
     "execution_count": 7,
     "metadata": {},
     "output_type": "execute_result"
    }
   ],
   "source": [
    "#order by total_salaries desc limit 5 \n",
    "\n",
    "pd.read_sql_query(\n",
    "    \n",
    "'''\n",
    "\n",
    "select teamID, max(payroll) as max_payroll, yearID from \n",
    "\n",
    "(select teamID, sum(salary) as payroll,yearID from Salaries where yearID <= 2016 and yearID >= 2006 group by teamID,yearID) \n",
    "\n",
    "group by teamID order by max_payroll desc limit 5\n",
    "\n",
    "'''\n",
    "                  \n",
    "                  ,conn )"
   ]
  },
  {
   "cell_type": "markdown",
   "metadata": {},
   "source": [
    "2. (3 points) Is there any general trend in payrolls over this time period? (Hint: make a plot to find the trend)\n"
   ]
  },
  {
   "cell_type": "code",
   "execution_count": 16,
   "metadata": {},
   "outputs": [
    {
     "data": {
      "text/plain": [
       "Text(0, 0.5, 'Payroll')"
      ]
     },
     "execution_count": 16,
     "metadata": {},
     "output_type": "execute_result"
    },
    {
     "data": {
      "image/png": "[encoded data removed]",
      "text/plain": [
       "<Figure size 640x480 with 1 Axes>"
      ]
     },
     "metadata": {},
     "output_type": "display_data"
    }
   ],
   "source": [
    "query = \"select teamID,  sum(salary) as total_salaries, yearID  from Salaries where yearID <= 2016 and yearID >= 2006 group by teamID,yearID\"\n",
    "plot_df = pd.read_sql_query(query, conn)\n",
    "plot_df\n",
    "\n",
    "#fig = px.line(plot_df, x=\"yearID\", y=\"total_salaries\", color=\"teamID\")\n",
    "#fig.show()\n",
    "\n",
    "#fig = px.line(plot_df.groupby(\"yearID\")[\"total_salaries\"].sum().reset_index(), x=\"yearID\", y=\"total_salaries\")\n",
    "#fig.show()\n",
    "\n",
    "sns.lineplot(x=\"yearID\",y=\"total_salaries\",hue=\"teamID\",data=plot_df.loc[plot_df[\"teamID\"].isin([\"NYA\",\"LAN\",\"DET\",\"BOS\",\"PHI\"])])\n",
    "plt.title(\"MLB Total Salary Cap 2006-2016\")\n",
    "plt.xlabel(\"Year\")\n",
    "plt.ylabel(\"Payroll\")\n",
    "\n",
    "\n",
    "\n",
    "sns.lineplot(x=\"yearID\",y=\"total_salaries\",data=plot_df)\n",
    "plt.title(\"MLB Salary Cap 2006-2016\")\n",
    "plt.xlabel(\"Year\")\n",
    "plt.ylabel(\"Payroll\")\n",
    "\n"
   ]
  },
  {
   "cell_type": "markdown",
   "metadata": {},
   "source": [
    "It seems that there is a mostly increasing trend across the entire MLB during this time period which is represented by the brown line and confidence band. The only segment that had a decrease was from 2008-2009 due to the Great Recession."
   ]
  },
  {
   "cell_type": "markdown",
   "metadata": {},
   "source": [
    "3. (2 points) There are at least 2 anomalies in the payrolls over this time period. What are they, and can you find information (online or elsewhere) to explain them?"
   ]
  },
  {
   "cell_type": "markdown",
   "metadata": {},
   "source": [
    "The first anomoly that I see in the payrolls over this time period is with the LA Dodgers from 2012 to 2013 their payroll increased by about $128 million dollars\n",
    "\n",
    "This dramatic increase is due to a change in ownership of the team in 2012. The new owners aquired lots of new high salary players which attributed to the massive increase in payroll. \n",
    "\n",
    "The second anomoly that I see in the payrolls over this time period is with the Philidelphia Phillies from 2014 to 2016 their payroll decreased by about $120 million dollars\n",
    "\n",
    "In 2014 the Phillies had 4 losing seasons but still maintained their high payroll. In order to properly rebuild they reduced their payroll and traded players who had long expensive contracts reducing the overall payroll during this period. \n",
    "\n",
    "\n"
   ]
  },
  {
   "cell_type": "markdown",
   "metadata": {},
   "source": [
    "4. (2 points) How do the top 5 teams compare to other teams?"
   ]
  },
  {
   "cell_type": "code",
   "execution_count": 9,
   "metadata": {},
   "outputs": [
    {
     "data": {
      "text/html": [
       "<div>\n",
       "<style scoped>\n",
       "    .dataframe tbody tr th:only-of-type {\n",
       "        vertical-align: middle;\n",
       "    }\n",
       "\n",
       "    .dataframe tbody tr th {\n",
       "        vertical-align: top;\n",
       "    }\n",
       "\n",
       "    .dataframe thead th {\n",
       "        text-align: right;\n",
       "    }\n",
       "</style>\n",
       "<table border=\"1\" class=\"dataframe\">\n",
       "  <thead>\n",
       "    <tr style=\"text-align: right;\">\n",
       "      <th></th>\n",
       "      <th>teamRank</th>\n",
       "      <th>W</th>\n",
       "      <th>L</th>\n",
       "      <th>R</th>\n",
       "      <th>AB</th>\n",
       "      <th>H</th>\n",
       "      <th>HR</th>\n",
       "      <th>BB</th>\n",
       "      <th>SO</th>\n",
       "      <th>SB</th>\n",
       "      <th>...</th>\n",
       "      <th>HRA</th>\n",
       "      <th>BBA</th>\n",
       "      <th>SOA</th>\n",
       "      <th>E</th>\n",
       "      <th>DP</th>\n",
       "      <th>FP</th>\n",
       "      <th>attendance</th>\n",
       "      <th>BPF</th>\n",
       "      <th>PPF</th>\n",
       "      <th>teams</th>\n",
       "    </tr>\n",
       "  </thead>\n",
       "  <tbody>\n",
       "    <tr>\n",
       "      <th>0</th>\n",
       "      <td>2.33</td>\n",
       "      <td>87.35</td>\n",
       "      <td>74.62</td>\n",
       "      <td>765.16</td>\n",
       "      <td>5573.44</td>\n",
       "      <td>1476.93</td>\n",
       "      <td>174.29</td>\n",
       "      <td>540.64</td>\n",
       "      <td>1142.95</td>\n",
       "      <td>95.87</td>\n",
       "      <td>...</td>\n",
       "      <td>161.69</td>\n",
       "      <td>498.25</td>\n",
       "      <td>1213.67</td>\n",
       "      <td>91.64</td>\n",
       "      <td>143.49</td>\n",
       "      <td>0.98</td>\n",
       "      <td>3214846.02</td>\n",
       "      <td>101.73</td>\n",
       "      <td>101.15</td>\n",
       "      <td>top_teams</td>\n",
       "    </tr>\n",
       "    <tr>\n",
       "      <th>1</th>\n",
       "      <td>3.15</td>\n",
       "      <td>79.71</td>\n",
       "      <td>82.25</td>\n",
       "      <td>710.48</td>\n",
       "      <td>5527.96</td>\n",
       "      <td>1422.80</td>\n",
       "      <td>160.52</td>\n",
       "      <td>503.54</td>\n",
       "      <td>1175.48</td>\n",
       "      <td>95.08</td>\n",
       "      <td>...</td>\n",
       "      <td>163.04</td>\n",
       "      <td>512.02</td>\n",
       "      <td>1161.33</td>\n",
       "      <td>99.11</td>\n",
       "      <td>148.04</td>\n",
       "      <td>0.98</td>\n",
       "      <td>2351820.43</td>\n",
       "      <td>99.82</td>\n",
       "      <td>99.94</td>\n",
       "      <td>not_top_teams</td>\n",
       "    </tr>\n",
       "  </tbody>\n",
       "</table>\n",
       "<p>2 rows × 31 columns</p>\n",
       "</div>"
      ],
      "text/plain": [
       "   teamRank      W      L       R       AB        H      HR      BB       SO  \\\n",
       "0      2.33  87.35  74.62  765.16  5573.44  1476.93  174.29  540.64  1142.95   \n",
       "1      3.15  79.71  82.25  710.48  5527.96  1422.80  160.52  503.54  1175.48   \n",
       "\n",
       "      SB  ...     HRA     BBA      SOA      E      DP    FP  attendance  \\\n",
       "0  95.87  ...  161.69  498.25  1213.67  91.64  143.49  0.98  3214846.02   \n",
       "1  95.08  ...  163.04  512.02  1161.33  99.11  148.04  0.98  2351820.43   \n",
       "\n",
       "      BPF     PPF          teams  \n",
       "0  101.73  101.15      top_teams  \n",
       "1   99.82   99.94  not_top_teams  \n",
       "\n",
       "[2 rows x 31 columns]"
      ]
     },
     "execution_count": 9,
     "metadata": {},
     "output_type": "execute_result"
    }
   ],
   "source": [
    "# Get a list of all numeric columns in the table\n",
    "query = \"SELECT name FROM PRAGMA_TABLE_INFO('Teams') WHERE type IN ('INTEGER','SMALLINT','DOUBLE')\"\n",
    "columns = pd.read_sql_query(query, conn)\n",
    "columns = columns.loc[~columns[\"name\"].isin( [\"2B\",\"3B\",\"ID\",\"yearID\",\"div_ID\",\"G\",\"Ghome\"])]\n",
    "\n",
    "# Construct a dynamic SQL query to compute the average of each column\n",
    "avg_columns = []\n",
    "for column in columns['name']:\n",
    "    avg_columns.append(f\"ROUND(AVG({column}),2) AS {column}\")\n",
    "    \n",
    "\n",
    "df = pd.read_sql_query(\n",
    "    \n",
    "f'''\n",
    "with top_teams as (\n",
    "select teamID from (\n",
    "select teamID, max(payroll) as max_payroll from \n",
    "(select teamID, sum(salary) as payroll,yearID from Salaries where yearID <= 2016 and yearID >= 2006 group by teamID,yearID) \n",
    "group by teamID order by max_payroll desc limit 5\n",
    "))\n",
    "\n",
    "SELECT {' , '.join(avg_columns)} FROM Teams WHERE teamID IN top_teams and yearID >= 2006 and yearID <= 2016 \n",
    "\n",
    "UNION\n",
    "\n",
    "SELECT {' , '.join(avg_columns)} FROM Teams WHERE teamID NOT IN top_teams and yearID >= 2006 and yearID <= 2016 \n",
    "\n",
    "\n",
    "'''\n",
    "                  \n",
    "                  ,conn )\n",
    "df[\"teams\"] = [\"top_teams\",\"not_top_teams\"]\n",
    "\n",
    "df"
   ]
  },
  {
   "cell_type": "code",
   "execution_count": 10,
   "metadata": {},
   "outputs": [
    {
     "data": {
      "text/html": [
       "\n",
       "        <iframe\n",
       "            width=\"100%\"\n",
       "            height=\"650\"\n",
       "            src=\"http://127.0.0.1:8050/\"\n",
       "            frameborder=\"0\"\n",
       "            allowfullscreen\n",
       "            \n",
       "        ></iframe>\n",
       "        "
      ],
      "text/plain": [
       "<IPython.lib.display.IFrame at 0x7f1310447ac0>"
      ]
     },
     "metadata": {},
     "output_type": "display_data"
    }
   ],
   "source": [
    "from dash import html, Output, Input,dcc, Dash\n",
    "from jupyter_dash import JupyterDash\n",
    "import pandas as pd\n",
    "import plotly.express as px\n",
    "\n",
    "# load the data\n",
    "data = df \n",
    "\n",
    "# create the app\n",
    "app = JupyterDash(__name__)\n",
    "\n",
    "# define the app layout\n",
    "app.layout = html.Div([\n",
    "    html.Label('Select a column:'),\n",
    "    dcc.Dropdown(\n",
    "        id='column-dropdown',\n",
    "        options=[{'label': col, 'value': col} for col in data.columns if col != \"teams\"],\n",
    "        value=data.columns[0]\n",
    "    ),\n",
    "    dcc.Graph(id='bar-plot')\n",
    "])\n",
    "\n",
    "# define the app callback\n",
    "@app.callback(\n",
    "    Output('bar-plot', 'figure'),\n",
    "    [Input('column-dropdown', 'value')]\n",
    ")\n",
    "def update_bar_plot(selected_column):\n",
    "    fig = px.bar(data, y='teams', x=selected_column,color = \"teams\",orientation = \"h\")\n",
    "    return fig\n",
    "\n",
    "if __name__ == '__main__':\n",
    "    app.run_server(mode = \"inline\")"
   ]
  },
  {
   "cell_type": "markdown",
   "metadata": {},
   "source": [
    "In the interactive dash app we can compare the top 5 team and not top 5 team averages across almost all numeric columns in the Teams table.\n",
    "\n",
    "The most noticible differences are in the Attendence, W, L, and E columns with the top teams having higher attendence and wins as well as fewer losses and errors on average.\n",
    "\n",
    "(Make sure a process is not running on port 8050 so the dash app is able to run or specify a different port)"
   ]
  }
 ],
 "metadata": {
  "kernelspec": {
   "display_name": "Python 3 (ipykernel)",
   "language": "python",
   "name": "python3"
  },
  "language_info": {
   "codemirror_mode": {
    "name": "ipython",
    "version": 3
   },
   "file_extension": ".py",
   "mimetype": "text/x-python",
   "name": "python",
   "nbconvert_exporter": "python",
   "pygments_lexer": "ipython3",
   "version": "3.9.13"
  }
 },
 "nbformat": 4,
 "nbformat_minor": 2
}
