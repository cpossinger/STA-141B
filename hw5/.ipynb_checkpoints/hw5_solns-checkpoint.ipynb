{
 "cells": [
  {
   "cell_type": "markdown",
   "metadata": {},
   "source": [
    "# STA 141B Assignment 5\n",
    "\n",
    "Due __March 7 (Monday), 2022__ by 11:59pm. Submit by editing this file and then uploading to Canvas.\n",
    "\n",
    "Please rename this file with __\"LastName_FirstName_hw5\"__ \n",
    "\n",
    "The purpose of this assignment is to practice accessing and analyzing data in a database.\n",
    "\n",
    "Notes: \n",
    "1. Put your answers in new cells after each exercise. You can make as many new cells as you like. Use code cells for code and Markdown cells for text. Answer all questions with complete sentences.\n",
    "\n",
    "2. Your code should be readable; writing a piece of code should be compared to writing a page of a book. Adopt the __one-statement-per-line__ rule. The lenghth of your code should not exceed the maximum length of each cell for display. If your code is too long, you should split it into multiple lines to improve readability. (You will lose one point for each line that does not follow the rule.)\n",
    "\n",
    "3. To help understand and maintain code, you should always add comments to explain your code. Use the hash symbol (#) to start writing a comment (homework without any comments will automatically receive 0 points). If you are writing a function, consider using _docstring_ to add explanation. \n",
    "\n",
    "4. Submit your final work with a __.pdf__ (or a __.html__) file to Canvas. To convert a .ipynb file to a .pdf/.html file, go to \"File\", click \"Download as\", and then click \"PDF via LaTeX\"/\"HTML\". \n",
    "\n",
    "5. Please do not clear your output so that we can see your answers without running all of the cells.\n",
    "\n",
    "__For full credit, do most of your work in SQL.__ Subsetting, sorting, grouping, aggregation, and merging can all be done in SQL. It is okay to use Python code for parts of your analysis that are difficult or impossible to do in SQL, such as creating visualizations or computing statistics (other than the mean)."
   ]
  },
  {
   "cell_type": "markdown",
   "metadata": {},
   "source": [
    "## Lahman's Baseball Database\n",
    "\n",
    "In this assignment, you'll use SQL queries and __pandas__ to explore data in [Lahman's Baseball Database](http://www.seanlahman.com/baseball-archive/statistics/), which contains \"complete batting and pitching statistics from 1871 to 2020, plus fielding statistics, standings, team stats, managerial records, post-season data, and more.\"\n",
    "\n",
    "We use the 2019 version for this homework. You can find the database in SQLite format in the hw5 folder on Piazza.\n",
    "\n",
    "Documentation for the database, including a description of all tables, is in the `readme2019.txt` file included in this repository."
   ]
  },
  {
   "cell_type": "markdown",
   "metadata": {
    "tags": [
     "exercise"
    ]
   },
   "source": [
    "__Exercises:__\n",
    "\n",
    "1. (3 points) From 2006 to 2016, which 5 teams had the highest payrolls? Payroll means the sum of the salaries for all people on the team in a given year.\n",
    "\n",
    "2. (3 points) Is there any general trend in payrolls over this time period? (Hint: make a plot to find the trend)\n",
    "\n",
    "3. (2 points) There are at least 2 anomalies in the payrolls over this time period. What are they, and can you find information (online or elsewhere) to explain them?\n",
    "\n",
    "4. (2 points) How do the top 5 teams compare to other teams?"
   ]
  },
  {
   "cell_type": "code",
   "execution_count": 25,
   "metadata": {},
   "outputs": [],
   "source": [
    "#### SOLUTION\n",
    "import sqlite3 as sql\n",
    "\n",
    "import matplotlib.pyplot as plt\n",
    "import pandas as pd\n",
    "import seaborn as sns\n",
    "\n",
    "%matplotlib inline"
   ]
  },
  {
   "cell_type": "code",
   "execution_count": 31,
   "metadata": {},
   "outputs": [],
   "source": [
    "db = sql.connect(\"lahmansbaseballdb.sqlite\")"
   ]
  },
  {
   "cell_type": "code",
   "execution_count": 32,
   "metadata": {},
   "outputs": [
    {
     "data": {
      "text/html": [
       "<div>\n",
       "<style scoped>\n",
       "    .dataframe tbody tr th:only-of-type {\n",
       "        vertical-align: middle;\n",
       "    }\n",
       "\n",
       "    .dataframe tbody tr th {\n",
       "        vertical-align: top;\n",
       "    }\n",
       "\n",
       "    .dataframe thead th {\n",
       "        text-align: right;\n",
       "    }\n",
       "</style>\n",
       "<table border=\"1\" class=\"dataframe\">\n",
       "  <thead>\n",
       "    <tr style=\"text-align: right;\">\n",
       "      <th></th>\n",
       "      <th>ID</th>\n",
       "      <th>yearID</th>\n",
       "      <th>teamID</th>\n",
       "      <th>team_ID</th>\n",
       "      <th>lgID</th>\n",
       "      <th>playerID</th>\n",
       "      <th>salary</th>\n",
       "    </tr>\n",
       "  </thead>\n",
       "  <tbody>\n",
       "    <tr>\n",
       "      <th>0</th>\n",
       "      <td>26428</td>\n",
       "      <td>2016</td>\n",
       "      <td>WAS</td>\n",
       "      <td>2835</td>\n",
       "      <td>NL</td>\n",
       "      <td>zimmery01</td>\n",
       "      <td>14000000.0</td>\n",
       "    </tr>\n",
       "    <tr>\n",
       "      <th>1</th>\n",
       "      <td>26427</td>\n",
       "      <td>2016</td>\n",
       "      <td>WAS</td>\n",
       "      <td>2835</td>\n",
       "      <td>NL</td>\n",
       "      <td>werthja01</td>\n",
       "      <td>21733615.0</td>\n",
       "    </tr>\n",
       "    <tr>\n",
       "      <th>2</th>\n",
       "      <td>26426</td>\n",
       "      <td>2016</td>\n",
       "      <td>WAS</td>\n",
       "      <td>2835</td>\n",
       "      <td>NL</td>\n",
       "      <td>treinbl01</td>\n",
       "      <td>524900.0</td>\n",
       "    </tr>\n",
       "    <tr>\n",
       "      <th>3</th>\n",
       "      <td>26425</td>\n",
       "      <td>2016</td>\n",
       "      <td>WAS</td>\n",
       "      <td>2835</td>\n",
       "      <td>NL</td>\n",
       "      <td>taylomi02</td>\n",
       "      <td>524000.0</td>\n",
       "    </tr>\n",
       "    <tr>\n",
       "      <th>4</th>\n",
       "      <td>26424</td>\n",
       "      <td>2016</td>\n",
       "      <td>WAS</td>\n",
       "      <td>2835</td>\n",
       "      <td>NL</td>\n",
       "      <td>strasst01</td>\n",
       "      <td>10400000.0</td>\n",
       "    </tr>\n",
       "    <tr>\n",
       "      <th>5</th>\n",
       "      <td>26423</td>\n",
       "      <td>2016</td>\n",
       "      <td>WAS</td>\n",
       "      <td>2835</td>\n",
       "      <td>NL</td>\n",
       "      <td>scherma01</td>\n",
       "      <td>22142857.0</td>\n",
       "    </tr>\n",
       "    <tr>\n",
       "      <th>6</th>\n",
       "      <td>26422</td>\n",
       "      <td>2016</td>\n",
       "      <td>WAS</td>\n",
       "      <td>2835</td>\n",
       "      <td>NL</td>\n",
       "      <td>rossjo01</td>\n",
       "      <td>514400.0</td>\n",
       "    </tr>\n",
       "    <tr>\n",
       "      <th>7</th>\n",
       "      <td>26421</td>\n",
       "      <td>2016</td>\n",
       "      <td>WAS</td>\n",
       "      <td>2835</td>\n",
       "      <td>NL</td>\n",
       "      <td>robincl01</td>\n",
       "      <td>534900.0</td>\n",
       "    </tr>\n",
       "    <tr>\n",
       "      <th>8</th>\n",
       "      <td>26420</td>\n",
       "      <td>2016</td>\n",
       "      <td>WAS</td>\n",
       "      <td>2835</td>\n",
       "      <td>NL</td>\n",
       "      <td>roarkta01</td>\n",
       "      <td>543400.0</td>\n",
       "    </tr>\n",
       "    <tr>\n",
       "      <th>9</th>\n",
       "      <td>26419</td>\n",
       "      <td>2016</td>\n",
       "      <td>WAS</td>\n",
       "      <td>2835</td>\n",
       "      <td>NL</td>\n",
       "      <td>riverfe01</td>\n",
       "      <td>516100.0</td>\n",
       "    </tr>\n",
       "  </tbody>\n",
       "</table>\n",
       "</div>"
      ],
      "text/plain": [
       "      ID  yearID teamID  team_ID lgID   playerID      salary\n",
       "0  26428    2016    WAS     2835   NL  zimmery01  14000000.0\n",
       "1  26427    2016    WAS     2835   NL  werthja01  21733615.0\n",
       "2  26426    2016    WAS     2835   NL  treinbl01    524900.0\n",
       "3  26425    2016    WAS     2835   NL  taylomi02    524000.0\n",
       "4  26424    2016    WAS     2835   NL  strasst01  10400000.0\n",
       "5  26423    2016    WAS     2835   NL  scherma01  22142857.0\n",
       "6  26422    2016    WAS     2835   NL   rossjo01    514400.0\n",
       "7  26421    2016    WAS     2835   NL  robincl01    534900.0\n",
       "8  26420    2016    WAS     2835   NL  roarkta01    543400.0\n",
       "9  26419    2016    WAS     2835   NL  riverfe01    516100.0"
      ]
     },
     "execution_count": 32,
     "metadata": {},
     "output_type": "execute_result"
    }
   ],
   "source": [
    "pd.read_sql(\"SELECT * FROM Salaries ORDER BY yearID DESC LIMIT 10\", db)"
   ]
  },
  {
   "cell_type": "code",
   "execution_count": 22,
   "metadata": {},
   "outputs": [
    {
     "data": {
      "text/html": [
       "<div>\n",
       "<style scoped>\n",
       "    .dataframe tbody tr th:only-of-type {\n",
       "        vertical-align: middle;\n",
       "    }\n",
       "\n",
       "    .dataframe tbody tr th {\n",
       "        vertical-align: top;\n",
       "    }\n",
       "\n",
       "    .dataframe thead th {\n",
       "        text-align: right;\n",
       "    }\n",
       "</style>\n",
       "<table border=\"1\" class=\"dataframe\">\n",
       "  <thead>\n",
       "    <tr style=\"text-align: right;\">\n",
       "      <th></th>\n",
       "      <th>yearID</th>\n",
       "      <th>teamID</th>\n",
       "      <th>name</th>\n",
       "      <th>total_salary</th>\n",
       "    </tr>\n",
       "  </thead>\n",
       "  <tbody>\n",
       "    <tr>\n",
       "      <th>0</th>\n",
       "      <td>2013</td>\n",
       "      <td>NYA</td>\n",
       "      <td>New York Yankees</td>\n",
       "      <td>231978886.0</td>\n",
       "    </tr>\n",
       "    <tr>\n",
       "      <th>1</th>\n",
       "      <td>2013</td>\n",
       "      <td>LAN</td>\n",
       "      <td>Los Angeles Dodgers</td>\n",
       "      <td>223362196.0</td>\n",
       "    </tr>\n",
       "    <tr>\n",
       "      <th>2</th>\n",
       "      <td>2016</td>\n",
       "      <td>NYA</td>\n",
       "      <td>New York Yankees</td>\n",
       "      <td>222997792.0</td>\n",
       "    </tr>\n",
       "    <tr>\n",
       "      <th>3</th>\n",
       "      <td>2016</td>\n",
       "      <td>LAN</td>\n",
       "      <td>Los Angeles Dodgers</td>\n",
       "      <td>221288380.0</td>\n",
       "    </tr>\n",
       "    <tr>\n",
       "      <th>4</th>\n",
       "      <td>2014</td>\n",
       "      <td>LAN</td>\n",
       "      <td>Los Angeles Dodgers</td>\n",
       "      <td>217014600.0</td>\n",
       "    </tr>\n",
       "  </tbody>\n",
       "</table>\n",
       "</div>"
      ],
      "text/plain": [
       "   yearID teamID                 name  total_salary\n",
       "0    2013    NYA     New York Yankees   231978886.0\n",
       "1    2013    LAN  Los Angeles Dodgers   223362196.0\n",
       "2    2016    NYA     New York Yankees   222997792.0\n",
       "3    2016    LAN  Los Angeles Dodgers   221288380.0\n",
       "4    2014    LAN  Los Angeles Dodgers   217014600.0"
      ]
     },
     "execution_count": 22,
     "metadata": {},
     "output_type": "execute_result"
    }
   ],
   "source": [
    "df = pd.read_sql(\"\"\"\n",
    "    SELECT l.*, SUM(r.salary) AS total_salary FROM\n",
    "    (\n",
    "        SELECT yearID, teamID, name FROM teams\n",
    "        WHERE yearid BETWEEN 2006 AND 2016\n",
    "    ) AS l\n",
    "    INNER JOIN\n",
    "    salaries AS r\n",
    "    ON l.yearid = r.yearid AND l.teamid = r.teamid\n",
    "    GROUP BY l.yearid, l.teamID\n",
    "    ORDER BY total_salary DESC\n",
    "\"\"\", db)\n",
    "\n",
    "df.head()"
   ]
  },
  {
   "cell_type": "code",
   "execution_count": 33,
   "metadata": {},
   "outputs": [
    {
     "name": "stderr",
     "output_type": "stream",
     "text": [
      "/Users/yuchien/opt/anaconda3/lib/python3.8/site-packages/seaborn/_decorators.py:36: FutureWarning: Pass the following variables as keyword args: x, y. From version 0.12, the only valid positional argument will be `data`, and passing other arguments without an explicit keyword will result in an error or misinterpretation.\n",
      "  warnings.warn(\n"
     ]
    },
    {
     "data": {
      "text/plain": [
       "Text(0, 0.5, 'Payroll (USD)')"
      ]
     },
     "execution_count": 33,
     "metadata": {},
     "output_type": "execute_result"
    },
    {
     "data": {
      "image/png": "[encoded data removed]",
      "text/plain": [
       "<Figure size 576x432 with 1 Axes>"
      ]
     },
     "metadata": {
      "needs_background": "light"
     },
     "output_type": "display_data"
    }
   ],
   "source": [
    "# Get the top 5.\n",
    "# We could do this in SQL, by getting the first 5 distinct team names from the result above,\n",
    "# but it's fine to do in Pandas since we've already substantially reduced the size of the tables.\n",
    "top5 = df[\"name\"].unique()[:5]\n",
    "is_top5 = df[\"name\"].isin(top5)\n",
    "top5 = df[is_top5]\n",
    "\n",
    "# Make the plot.\n",
    "plt.figure(figsize = (8, 6))\n",
    "ax = sns.lineplot(\"yearID\", \"total_salary\", hue = \"name\", data = top5, marker = \"o\")\n",
    "ax.set_title(\"Top 5 Baseball Teams by Payroll\")\n",
    "ax.set_xlabel(\"Year\")\n",
    "ax.set_ylabel(\"Payroll (USD)\")"
   ]
  },
  {
   "cell_type": "markdown",
   "metadata": {},
   "source": [
    "__SOLUTION__\n",
    "\n",
    "### Part 1-2\n",
    "\n",
    "The teams with the 5 highest payrolls over 2006 - 2016 are shown in the plot above. Overall, there is a positive trend in payrolls, although the payroll for the top team, the New York Yankees, has remained relatively stable.\n",
    "\n",
    "### Part 3\n",
    "\n",
    "There was an increase in the payroll for the Los Angeles Dodgers from 2012 to 2013 by almost \\\\$125 million dollars. According to [USA Today](https://www.usatoday.com/story/sports/mlb/dodgers/2012/12/12/los-angeles-dodgers-new-york-yankees-2013-major-league-baseball-payroll/1765749/), this increase coincides with a change of ownership for the team.\n",
    "\n",
    "There was a decrease in the payroll for the Philadelphia Phillies from 2014 to 2016 by almost \\\\$100 million dollars. According to the [Philadelphia Inquirer](https://www.philly.com/philly/blogs/sports/phillies/Phillies-payroll-fell-to-26th-in-MLB-last-season-.html), the Phillies managers shifted to a strategy of hiring younger, less expensive players beginning in 2011. The plot shows this: the payroll steadily increases until 2011, then levels off and eventually drops."
   ]
  },
  {
   "cell_type": "code",
   "execution_count": 24,
   "metadata": {},
   "outputs": [
    {
     "name": "stderr",
     "output_type": "stream",
     "text": [
      "/Users/yuchien/opt/anaconda3/lib/python3.8/site-packages/seaborn/_decorators.py:36: FutureWarning: Pass the following variables as keyword args: x, y. From version 0.12, the only valid positional argument will be `data`, and passing other arguments without an explicit keyword will result in an error or misinterpretation.\n",
      "  warnings.warn(\n"
     ]
    },
    {
     "data": {
      "text/plain": [
       "Text(0, 0.5, 'Payroll (USD)')"
      ]
     },
     "execution_count": 24,
     "metadata": {},
     "output_type": "execute_result"
    },
    {
     "data": {
      "image/png": "[encoded data removed]",
      "text/plain": [
       "<Figure size 576x432 with 1 Axes>"
      ]
     },
     "metadata": {
      "needs_background": "light"
     },
     "output_type": "display_data"
    }
   ],
   "source": [
    "plt.figure(figsize = (8, 6))\n",
    "ax = sns.boxplot(\"yearID\", \"total_salary\", data = df)\n",
    "ax.set_title(\"Baseball Payroll Distributions\")\n",
    "ax.set_xlabel(\"Year\")\n",
    "ax.set_ylabel(\"Payroll (USD)\")"
   ]
  },
  {
   "cell_type": "markdown",
   "metadata": {},
   "source": [
    "__SOLUTION__\n",
    "\n",
    "### Part 4\n",
    "\n",
    "From the plot above, we can see that the lower 75% of payrolls each year did not increase beyond about \\\\$110 million until 2016, and then only increased to about \\\\$150 million. The 5 teams with the highest payrolls were all above \\\\$150 million from 2011 onward, so they are much more expensive than most other teams -- by about \\\\$25 to \\\\$50 million.\n",
    "\n",
    "The Philadelphia Phillies are an exception in 2016, when their payroll dropped below the median payroll for all teams."
   ]
  },
  {
   "cell_type": "markdown",
   "metadata": {
    "tags": [
     "exercise"
    ]
   },
   "source": [
    "__Exercise 1.2.__ Ask and use the database to answer 3 questions about baseball. For each question, write at least 2-3 paragraphs (~150 words) and support your answer with plots. If you feel like you don't have enough to write for a question, you probably aren't investigating follow up questions (inspired your original question) as carefully as you should.\n",
    "\n",
    "__Try to come up with your own questions__, but here are two examples of reasonable questions:\n",
    "\n",
    "* Is it common for players to switch teams? Has this changed over time? Which players have been on the most teams, and how many were they on?\n",
    "* How much have salaries increased over the years in [real dollars](https://en.wikipedia.org/wiki/Real_versus_nominal_value_(economics))? The `salary` column in the `Salaries` table is in nominal dollars, so you will need to get Consumer Price Index data online if you want to answer this question. Is there a corresponding increase in performance?\n",
    "\n",
    "Please make sure to clearly state each of your questions in your submission."
   ]
  },
  {
   "cell_type": "markdown",
   "metadata": {},
   "source": [
    "#### SOLUTION\n",
    "\n",
    "Answers will vary."
   ]
  }
 ],
 "metadata": {
  "kernelspec": {
   "display_name": "Python 3",
   "language": "python",
   "name": "python3"
  },
  "language_info": {
   "codemirror_mode": {
    "name": "ipython",
    "version": 3
   },
   "file_extension": ".py",
   "mimetype": "text/x-python",
   "name": "python",
   "nbconvert_exporter": "python",
   "pygments_lexer": "ipython3",
   "version": "3.8.8"
  }
 },
 "nbformat": 4,
 "nbformat_minor": 2
}
