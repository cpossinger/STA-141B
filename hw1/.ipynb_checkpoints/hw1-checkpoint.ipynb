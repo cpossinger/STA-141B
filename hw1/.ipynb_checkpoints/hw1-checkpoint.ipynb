{
 "cells": [
  {
   "cell_type": "markdown",
   "metadata": {},
   "source": [
    "# STA 141B Assignment 1\n",
    "\n",
    "Due __January 27, 2023__ by __11:59pm__. Submit by editing this file and then uploading to Canvas.\n",
    "\n",
    "Please rename this file with __\"LastName_FirstName_hw1\"__ \n",
    "\n",
    "The purpose of this assignment is to practice programming fundamentals: writing functions, if-statements, and loops. We'll get to more interesting and data science-y exercises in the next assignment.\n",
    "\n",
    "Notes: \n",
    "1. Put your answers in new cells after each exercise. You can make as many new cells as you like. Use code cells for code and Markdown cells for text. Answer all questions with complete sentences.\n",
    "\n",
    "2. Your code should be readable; writing a piece of code should be compared to writing a page of a book. Adopt the __one-statement-per-line__ rule. Consider splitting a lengthy statement into multiple lines to improve readability. (You will lose one point for each line that does not follow the one-statement-per-line rule)\n",
    "\n",
    "3. To help understand and maintain code, you should always add comments to explain your code. Use the hash symbol (#) to start writing a comment (homework without any comments will automatically receive 0 points). Using docstring to explain the function\n",
    "\n",
    "4. Submit your final work with a __.pdf__ (or a __.html__) file to Canvas. To convert a .ipynb file to a .pdf/.html file, go to \"File\", click \"Download as\", and then click \"PDF via LaTeX\"/\"HTML\". \n",
    "\n",
    "5. This assignment will be graded for correctness."
   ]
  },
  {
   "cell_type": "markdown",
   "metadata": {
    "tags": [
     "exercise"
    ]
   },
   "source": [
    "## Warm Ups\n",
    "\n",
    "__Exercise 1.1 (10 points).__ In lecture, we saw that Python's lists have reference semantics. Give a similar example that shows Python's dictionaries have reference semantics. Make sure to explain your example.\n"
   ]
  },
  {
   "cell_type": "code",
   "execution_count": 4,
   "metadata": {},
   "outputs": [
    {
     "name": "stdout",
     "output_type": "stream",
     "text": [
      "initial dict:  {'hello': 1, 'world': 2}\n",
      "changed dict:  {'hello': 5000, 'world': 2}\n"
     ]
    }
   ],
   "source": [
    "dict = {\"hello\":1, \"world\":2}\n",
    "copy_dict = dict\n",
    "print(\"initial dict: \",copy_dict)\n",
    "\n",
    "dict[\"hello\"] = 5000\n",
    "print(\"changed dict: \",copy_dict)\n",
    "\n",
    "\n"
   ]
  },
  {
   "cell_type": "markdown",
   "metadata": {},
   "source": [
    "In the code cell above the copy_dict object references dict. When we change one of the values of dict the corresponding value in copy_dict changes as well."
   ]
  },
  {
   "cell_type": "markdown",
   "metadata": {
    "tags": [
     "exercise"
    ]
   },
   "source": [
    "__Exercise 1.2 (10 points).__ Are strings mutable? Give an example and explain your reasoning. _Hint: It's a good idea to confirm your answer by checking the Python 3 documentation._\n",
    "\n",
    "Next, read [the documentation](https://docs.python.org/3/library/stdtypes.html#str.replace) for the string `.replace()` method. Give an example of using the method and explain how it fits in with your understanding of whether or not strings are mutable."
   ]
  },
  {
   "cell_type": "code",
   "execution_count": 5,
   "metadata": {},
   "outputs": [
    {
     "ename": "TypeError",
     "evalue": "'str' object does not support item assignment",
     "output_type": "error",
     "traceback": [
      "\u001b[0;31m---------------------------------------------------------------------------\u001b[0m",
      "\u001b[0;31mTypeError\u001b[0m                                 Traceback (most recent call last)",
      "\u001b[0;32m/tmp/ipykernel_159228/870299240.py\u001b[0m in \u001b[0;36m<module>\u001b[0;34m\u001b[0m\n\u001b[1;32m      1\u001b[0m \u001b[0mstring\u001b[0m \u001b[0;34m=\u001b[0m \u001b[0;34m\"duck\"\u001b[0m\u001b[0;34m\u001b[0m\u001b[0;34m\u001b[0m\u001b[0m\n\u001b[0;32m----> 2\u001b[0;31m \u001b[0mstring\u001b[0m\u001b[0;34m[\u001b[0m\u001b[0;36m0\u001b[0m\u001b[0;34m]\u001b[0m \u001b[0;34m=\u001b[0m \u001b[0;34m\"l\"\u001b[0m\u001b[0;34m\u001b[0m\u001b[0;34m\u001b[0m\u001b[0m\n\u001b[0m",
      "\u001b[0;31mTypeError\u001b[0m: 'str' object does not support item assignment"
     ]
    }
   ],
   "source": [
    "string = \"duck\"\n",
    "string[0] = \"l\""
   ]
  },
  {
   "cell_type": "markdown",
   "metadata": {},
   "source": [
    "In the code cell above we can verify that strings in Python are immutable because once a string is assigned to a variable that string cannot be changed"
   ]
  },
  {
   "cell_type": "code",
   "execution_count": 10,
   "metadata": {},
   "outputs": [
    {
     "data": {
      "text/plain": [
       "'luck'"
      ]
     },
     "execution_count": 10,
     "metadata": {},
     "output_type": "execute_result"
    }
   ],
   "source": [
    "string = \"duck\"\n",
    "string.replace(\"d\",\"l\")"
   ]
  },
  {
   "cell_type": "markdown",
   "metadata": {},
   "source": [
    "The replace method takes an inital string and then returns a new string with the pattern to be replaced. Based on this result strings are still immutable."
   ]
  },
  {
   "cell_type": "markdown",
   "metadata": {},
   "source": [
    "\n",
    "\n",
    "## Writing Functions\n",
    "\n",
    "__Exercise 1.3 (10 points).__ Write a function `mean` that takes a list of numbers as input and returns their mean as output. Test your function on at least two examples.\n",
    "\n"
   ]
  },
  {
   "cell_type": "code",
   "execution_count": 16,
   "metadata": {},
   "outputs": [
    {
     "name": "stdout",
     "output_type": "stream",
     "text": [
      "3.5\n",
      "2180.2\n"
     ]
    }
   ],
   "source": [
    "def mean(nums):\n",
    "    return sum(nums) / len(nums)\n",
    "\n",
    "print(mean([1,2,3,4,5,6]))\n",
    "print(mean([250,300,350,10000,1]))\n",
    "    "
   ]
  },
  {
   "cell_type": "markdown",
   "metadata": {},
   "source": [
    "__Exercise 1.4 (10 points).__ For the function you wrote in Exercise 1.3, what happens if the input list is empty or contains non-numeric elements? Create a new version of your function called `better_mean` that returns `None` when either of these unusual cases occur.\n",
    "\n",
    "_Hint: A similar problem is discussed in [Section 6.8](http://greenteapress.com/thinkpython2/html/thinkpython2007.html#sec77) of Think Python._"
   ]
  },
  {
   "cell_type": "code",
   "execution_count": 18,
   "metadata": {},
   "outputs": [
    {
     "ename": "ZeroDivisionError",
     "evalue": "division by zero",
     "output_type": "error",
     "traceback": [
      "\u001b[0;31m---------------------------------------------------------------------------\u001b[0m",
      "\u001b[0;31mZeroDivisionError\u001b[0m                         Traceback (most recent call last)",
      "\u001b[0;32m/tmp/ipykernel_159228/2933612503.py\u001b[0m in \u001b[0;36m<module>\u001b[0;34m\u001b[0m\n\u001b[0;32m----> 1\u001b[0;31m \u001b[0mmean\u001b[0m\u001b[0;34m(\u001b[0m\u001b[0;34m[\u001b[0m\u001b[0;34m]\u001b[0m\u001b[0;34m)\u001b[0m\u001b[0;34m\u001b[0m\u001b[0;34m\u001b[0m\u001b[0m\n\u001b[0m\u001b[1;32m      2\u001b[0m \u001b[0mmean\u001b[0m\u001b[0;34m(\u001b[0m\u001b[0;34m[\u001b[0m\u001b[0;34m\"sup\"\u001b[0m\u001b[0;34m,\u001b[0m\u001b[0;34m\"hey\"\u001b[0m\u001b[0;34m]\u001b[0m\u001b[0;34m)\u001b[0m\u001b[0;34m\u001b[0m\u001b[0;34m\u001b[0m\u001b[0m\n",
      "\u001b[0;32m/tmp/ipykernel_159228/3322563191.py\u001b[0m in \u001b[0;36mmean\u001b[0;34m(nums)\u001b[0m\n\u001b[1;32m      1\u001b[0m \u001b[0;32mdef\u001b[0m \u001b[0mmean\u001b[0m\u001b[0;34m(\u001b[0m\u001b[0mnums\u001b[0m\u001b[0;34m)\u001b[0m\u001b[0;34m:\u001b[0m\u001b[0;34m\u001b[0m\u001b[0;34m\u001b[0m\u001b[0m\n\u001b[0;32m----> 2\u001b[0;31m     \u001b[0;32mreturn\u001b[0m \u001b[0msum\u001b[0m\u001b[0;34m(\u001b[0m\u001b[0mnums\u001b[0m\u001b[0;34m)\u001b[0m \u001b[0;34m/\u001b[0m \u001b[0mlen\u001b[0m\u001b[0;34m(\u001b[0m\u001b[0mnums\u001b[0m\u001b[0;34m)\u001b[0m\u001b[0;34m\u001b[0m\u001b[0;34m\u001b[0m\u001b[0m\n\u001b[0m\u001b[1;32m      3\u001b[0m \u001b[0;34m\u001b[0m\u001b[0m\n\u001b[1;32m      4\u001b[0m \u001b[0mprint\u001b[0m\u001b[0;34m(\u001b[0m\u001b[0mmean\u001b[0m\u001b[0;34m(\u001b[0m\u001b[0;34m[\u001b[0m\u001b[0;36m1\u001b[0m\u001b[0;34m,\u001b[0m\u001b[0;36m2\u001b[0m\u001b[0;34m,\u001b[0m\u001b[0;36m3\u001b[0m\u001b[0;34m,\u001b[0m\u001b[0;36m4\u001b[0m\u001b[0;34m,\u001b[0m\u001b[0;36m5\u001b[0m\u001b[0;34m,\u001b[0m\u001b[0;36m6\u001b[0m\u001b[0;34m]\u001b[0m\u001b[0;34m)\u001b[0m\u001b[0;34m)\u001b[0m\u001b[0;34m\u001b[0m\u001b[0;34m\u001b[0m\u001b[0m\n\u001b[1;32m      5\u001b[0m \u001b[0mprint\u001b[0m\u001b[0;34m(\u001b[0m\u001b[0mmean\u001b[0m\u001b[0;34m(\u001b[0m\u001b[0;34m[\u001b[0m\u001b[0;36m250\u001b[0m\u001b[0;34m,\u001b[0m\u001b[0;36m300\u001b[0m\u001b[0;34m,\u001b[0m\u001b[0;36m350\u001b[0m\u001b[0;34m,\u001b[0m\u001b[0;36m10000\u001b[0m\u001b[0;34m,\u001b[0m\u001b[0;36m1\u001b[0m\u001b[0;34m]\u001b[0m\u001b[0;34m)\u001b[0m\u001b[0;34m)\u001b[0m\u001b[0;34m\u001b[0m\u001b[0;34m\u001b[0m\u001b[0m\n",
      "\u001b[0;31mZeroDivisionError\u001b[0m: division by zero"
     ]
    }
   ],
   "source": [
    "mean([])"
   ]
  },
  {
   "cell_type": "code",
   "execution_count": 19,
   "metadata": {},
   "outputs": [
    {
     "ename": "TypeError",
     "evalue": "unsupported operand type(s) for +: 'int' and 'str'",
     "output_type": "error",
     "traceback": [
      "\u001b[0;31m---------------------------------------------------------------------------\u001b[0m",
      "\u001b[0;31mTypeError\u001b[0m                                 Traceback (most recent call last)",
      "\u001b[0;32m/tmp/ipykernel_159228/665438370.py\u001b[0m in \u001b[0;36m<module>\u001b[0;34m\u001b[0m\n\u001b[0;32m----> 1\u001b[0;31m \u001b[0mmean\u001b[0m\u001b[0;34m(\u001b[0m\u001b[0;34m[\u001b[0m\u001b[0;34m\"sup\"\u001b[0m\u001b[0;34m,\u001b[0m\u001b[0;34m\"hey\"\u001b[0m\u001b[0;34m]\u001b[0m\u001b[0;34m)\u001b[0m\u001b[0;34m\u001b[0m\u001b[0;34m\u001b[0m\u001b[0m\n\u001b[0m",
      "\u001b[0;32m/tmp/ipykernel_159228/3322563191.py\u001b[0m in \u001b[0;36mmean\u001b[0;34m(nums)\u001b[0m\n\u001b[1;32m      1\u001b[0m \u001b[0;32mdef\u001b[0m \u001b[0mmean\u001b[0m\u001b[0;34m(\u001b[0m\u001b[0mnums\u001b[0m\u001b[0;34m)\u001b[0m\u001b[0;34m:\u001b[0m\u001b[0;34m\u001b[0m\u001b[0;34m\u001b[0m\u001b[0m\n\u001b[0;32m----> 2\u001b[0;31m     \u001b[0;32mreturn\u001b[0m \u001b[0msum\u001b[0m\u001b[0;34m(\u001b[0m\u001b[0mnums\u001b[0m\u001b[0;34m)\u001b[0m \u001b[0;34m/\u001b[0m \u001b[0mlen\u001b[0m\u001b[0;34m(\u001b[0m\u001b[0mnums\u001b[0m\u001b[0;34m)\u001b[0m\u001b[0;34m\u001b[0m\u001b[0;34m\u001b[0m\u001b[0m\n\u001b[0m\u001b[1;32m      3\u001b[0m \u001b[0;34m\u001b[0m\u001b[0m\n\u001b[1;32m      4\u001b[0m \u001b[0mprint\u001b[0m\u001b[0;34m(\u001b[0m\u001b[0mmean\u001b[0m\u001b[0;34m(\u001b[0m\u001b[0;34m[\u001b[0m\u001b[0;36m1\u001b[0m\u001b[0;34m,\u001b[0m\u001b[0;36m2\u001b[0m\u001b[0;34m,\u001b[0m\u001b[0;36m3\u001b[0m\u001b[0;34m,\u001b[0m\u001b[0;36m4\u001b[0m\u001b[0;34m,\u001b[0m\u001b[0;36m5\u001b[0m\u001b[0;34m,\u001b[0m\u001b[0;36m6\u001b[0m\u001b[0;34m]\u001b[0m\u001b[0;34m)\u001b[0m\u001b[0;34m)\u001b[0m\u001b[0;34m\u001b[0m\u001b[0;34m\u001b[0m\u001b[0m\n\u001b[1;32m      5\u001b[0m \u001b[0mprint\u001b[0m\u001b[0;34m(\u001b[0m\u001b[0mmean\u001b[0m\u001b[0;34m(\u001b[0m\u001b[0;34m[\u001b[0m\u001b[0;36m250\u001b[0m\u001b[0;34m,\u001b[0m\u001b[0;36m300\u001b[0m\u001b[0;34m,\u001b[0m\u001b[0;36m350\u001b[0m\u001b[0;34m,\u001b[0m\u001b[0;36m10000\u001b[0m\u001b[0;34m,\u001b[0m\u001b[0;36m1\u001b[0m\u001b[0;34m]\u001b[0m\u001b[0;34m)\u001b[0m\u001b[0;34m)\u001b[0m\u001b[0;34m\u001b[0m\u001b[0;34m\u001b[0m\u001b[0m\n",
      "\u001b[0;31mTypeError\u001b[0m: unsupported operand type(s) for +: 'int' and 'str'"
     ]
    }
   ],
   "source": [
    "mean([\"sup\",\"hey\"])"
   ]
  },
  {
   "cell_type": "code",
   "execution_count": 21,
   "metadata": {},
   "outputs": [],
   "source": [
    "def better_mean(nums):\n",
    "    # add error handling\n",
    "    try:\n",
    "        return sum(nums) / len(nums)\n",
    "    except:\n",
    "        return None"
   ]
  },
  {
   "cell_type": "code",
   "execution_count": 24,
   "metadata": {},
   "outputs": [
    {
     "name": "stdout",
     "output_type": "stream",
     "text": [
      "None\n"
     ]
    }
   ],
   "source": [
    "print(better_mean([]))"
   ]
  },
  {
   "cell_type": "code",
   "execution_count": 25,
   "metadata": {},
   "outputs": [
    {
     "name": "stdout",
     "output_type": "stream",
     "text": [
      "None\n"
     ]
    }
   ],
   "source": [
    "print(better_mean([\"sup\",\"hey\"]))"
   ]
  },
  {
   "cell_type": "markdown",
   "metadata": {
    "tags": [
     "exercise"
    ]
   },
   "source": [
    "__Exercise 1.5 (10 points).__ Read [Section 4.9](http://greenteapress.com/thinkpython2/html/thinkpython2005.html#sec50) of Think Python. Create a new version of your function from Exercise 1.4 called `best_mean` that includes a docstring explaining how to use the function. Give an example to show that your docstring works with Python's built-in help system."
   ]
  },
  {
   "cell_type": "code",
   "execution_count": 28,
   "metadata": {},
   "outputs": [],
   "source": [
    "def best_mean(nums):\n",
    "    \"\"\"\n",
    "    This function calculates the mean of a list of numbers.\n",
    "  \n",
    "    Parameters:\n",
    "        nums (lst): A list of numbers to calculate the mean from.\n",
    "          \n",
    "    Returns:\n",
    "        A float which contains the mean.\n",
    "             \n",
    "        None when the list is empty or contains strings. \n",
    "    \"\"\"\n",
    "    try:\n",
    "        return sum(nums) / len(nums)\n",
    "    except:\n",
    "        return None"
   ]
  },
  {
   "cell_type": "code",
   "execution_count": 29,
   "metadata": {},
   "outputs": [
    {
     "name": "stdout",
     "output_type": "stream",
     "text": [
      "Help on function best_mean in module __main__:\n",
      "\n",
      "best_mean(nums)\n",
      "    This function calculates the mean of a list of numbers.\n",
      "    \n",
      "    Parameters:\n",
      "        nums (lst): A list of numbers to calculate the mean from.\n",
      "          \n",
      "    Returns:\n",
      "        A float which contains the mean.\n",
      "             \n",
      "        None when the list is empty or containes strings.\n",
      "\n"
     ]
    }
   ],
   "source": [
    "help(best_mean)"
   ]
  },
  {
   "cell_type": "markdown",
   "metadata": {
    "tags": [
     "exercise"
    ]
   },
   "source": [
    "__Exercise 1.6 (10 points).__ Write a function `median` that takes a list of numbers as input and returns their median as output. Document your function with a docstring. Test your function on at least two examples."
   ]
  },
  {
   "cell_type": "code",
   "execution_count": 67,
   "metadata": {},
   "outputs": [],
   "source": [
    "def median(nums):\n",
    "    '''\n",
    "    This function takes a list of numbers and returns their median\n",
    "    \n",
    "    Parameters:\n",
    "        nums (lst): A list of numbers to calculate the median from\n",
    "        \n",
    "    Returns:\n",
    "        An int or float which contains the median.\n",
    "        \n",
    "        None when the list is empty or contains strings.\n",
    "    '''\n",
    "    try:\n",
    "        # sort the list \n",
    "        nums.sort()\n",
    "        n = len(nums)\n",
    "        # even case\n",
    "        if n % 2 == 0:\n",
    "            return ((nums[(n // 2) - 1] + nums[(n // 2)]) / 2) \n",
    "        # odd case\n",
    "        else:\n",
    "            return nums[n // 2]\n",
    "    except:\n",
    "        return None"
   ]
  },
  {
   "cell_type": "code",
   "execution_count": 70,
   "metadata": {},
   "outputs": [
    {
     "name": "stdout",
     "output_type": "stream",
     "text": [
      "4\n",
      "7.0\n"
     ]
    }
   ],
   "source": [
    "print(median([1,2,3,4,5,6,7]))\n",
    "print(median([5,12,9,1]))"
   ]
  },
  {
   "cell_type": "code",
   "execution_count": null,
   "metadata": {},
   "outputs": [],
   "source": []
  },
  {
   "cell_type": "markdown",
   "metadata": {
    "tags": [
     "exercise"
    ]
   },
   "source": [
    "## Finding Exponential Roots\n",
    "\n",
    "The Newton-Raphson algorithm is an algorithm for finding the zeroes of a mathematical function. We can use the Newton-Raphson algorithm to find zeroes of the function\n",
    "\n",
    "$$\n",
    "f(x) = x^p - c\n",
    "$$\n",
    "\n",
    "where $p$ and $c$ are constants. For example, if we choose $p = 2$ and $c = 4$, the Newton-Raphson algorithm finds solutions to\n",
    "\n",
    "$$\n",
    "0 = x^2 - 4\n",
    "$$\n",
    "\n",
    "In other words, we can use the algorithm to find square roots. By changing $p$, we can also find other kinds of exponential roots.\n",
    "\n",
    "\n",
    "The algorithm works by starting from an initial guess $x_0$ and then iteratively evaluating\n",
    "\n",
    "$$\n",
    "x_{n+1} = x_n - \\frac{f(x_n)}{f'(x_n)}\n",
    "$$\n",
    "\n",
    "for $n = 0, 1, 2, \\dots, N$ until reaching a result $X_{N+1}$ with acceptable accuracy. The initial guess does not need to be an excellent guess, but can affect which zero is found.\n",
    "\n",
    "For our specific function $f$, note that $f'(x) = px^{p-1}$.\n",
    "\n",
    "__Exercise 1.7 (20 points).__ Write a function `root` that uses the Newton-Raphson algorithm to compute one of the $p$-th roots for a constant $c$. Your function does not need to find complex roots, only real roots. Your function should have arguments\n",
    "\n",
    "* `c`, the constant\n",
    "* `p`, the power\n",
    "* `x0`, the initial guess\n",
    "* `N`, the maximum number of iterations\n",
    "\n",
    "Test your function for $c = 3$, $p = 2$, $N = 200$. Try different values of $x_0$. Can you find initial guesses to get both roots? Explain what happens when the initial guess is $x_0 = 0$."
   ]
  },
  {
   "cell_type": "code",
   "execution_count": 76,
   "metadata": {},
   "outputs": [],
   "source": [
    "def root(c,p,x0,N):\n",
    "    \n",
    "    # define fx formula\n",
    "    def fx(c,p,x):\n",
    "        return x**p - c\n",
    "    \n",
    "    # define fx prime formula\n",
    "    def fx_prime(p,x):\n",
    "        return p*x**(p-1)\n",
    "    \n",
    "    # initialize x \n",
    "    x = x0\n",
    "    for i in range(N):\n",
    "        xn = x - fx(c,p,x) / fx_prime(p,x)\n",
    "        # update x\n",
    "        x = xn\n",
    "    return x"
   ]
  },
  {
   "cell_type": "code",
   "execution_count": 83,
   "metadata": {},
   "outputs": [
    {
     "name": "stdout",
     "output_type": "stream",
     "text": [
      "-1.7320508075688774\n",
      "1.7320508075688774\n"
     ]
    }
   ],
   "source": [
    "print(root(3,2,-1,200))\n",
    "print(root(3,2,1,200))"
   ]
  },
  {
   "cell_type": "markdown",
   "metadata": {
    "tags": [
     "exercise"
    ]
   },
   "source": [
    "__Exercise 1.8 (20 points).__ Read the Python documentation for the string `.format()` method (see [here](https://docs.python.org/3/library/stdtypes.html#str.format)). Create a new version of your function from Exercise 1.7 called `root_print` that neatly prints the iteration number and estimate for each iteration up to $N$.\n",
    "\n",
    "Test your function for $c = 7$, $p = 3$, $x_0 = 2$, $N = 49$. About how many iterations does it take for the first 3 digits to stabilize at the correct values?"
   ]
  },
  {
   "cell_type": "code",
   "execution_count": 86,
   "metadata": {},
   "outputs": [],
   "source": [
    "def root_print(c,p,x0,N):\n",
    "    \n",
    "    def fx(c,p,x):\n",
    "        return x**p - c\n",
    "    \n",
    "    def fx_prime(p,x):\n",
    "        return p*x**(p-1)\n",
    "    \n",
    "    x = x0\n",
    "    for i in range(N):\n",
    "        xn = x - fx(c,p,x) / fx_prime(p,x)\n",
    "        x = xn\n",
    "        # add formatting\n",
    "        print(\"Interation number: {i} Estimate: {x}\".format(i = i + 1, x = x))\n",
    "    return x"
   ]
  },
  {
   "cell_type": "code",
   "execution_count": 87,
   "metadata": {},
   "outputs": [
    {
     "name": "stdout",
     "output_type": "stream",
     "text": [
      "Interation number: 1 Estimate: 1.9166666666666667\n",
      "Interation number: 2 Estimate: 1.9129384583070783\n",
      "Interation number: 3 Estimate: 1.9129311828000604\n",
      "Interation number: 4 Estimate: 1.9129311827723892\n",
      "Interation number: 5 Estimate: 1.9129311827723892\n",
      "Interation number: 6 Estimate: 1.9129311827723892\n",
      "Interation number: 7 Estimate: 1.9129311827723892\n",
      "Interation number: 8 Estimate: 1.9129311827723892\n",
      "Interation number: 9 Estimate: 1.9129311827723892\n",
      "Interation number: 10 Estimate: 1.9129311827723892\n",
      "Interation number: 11 Estimate: 1.9129311827723892\n",
      "Interation number: 12 Estimate: 1.9129311827723892\n",
      "Interation number: 13 Estimate: 1.9129311827723892\n",
      "Interation number: 14 Estimate: 1.9129311827723892\n",
      "Interation number: 15 Estimate: 1.9129311827723892\n",
      "Interation number: 16 Estimate: 1.9129311827723892\n",
      "Interation number: 17 Estimate: 1.9129311827723892\n",
      "Interation number: 18 Estimate: 1.9129311827723892\n",
      "Interation number: 19 Estimate: 1.9129311827723892\n",
      "Interation number: 20 Estimate: 1.9129311827723892\n",
      "Interation number: 21 Estimate: 1.9129311827723892\n",
      "Interation number: 22 Estimate: 1.9129311827723892\n",
      "Interation number: 23 Estimate: 1.9129311827723892\n",
      "Interation number: 24 Estimate: 1.9129311827723892\n",
      "Interation number: 25 Estimate: 1.9129311827723892\n",
      "Interation number: 26 Estimate: 1.9129311827723892\n",
      "Interation number: 27 Estimate: 1.9129311827723892\n",
      "Interation number: 28 Estimate: 1.9129311827723892\n",
      "Interation number: 29 Estimate: 1.9129311827723892\n",
      "Interation number: 30 Estimate: 1.9129311827723892\n",
      "Interation number: 31 Estimate: 1.9129311827723892\n",
      "Interation number: 32 Estimate: 1.9129311827723892\n",
      "Interation number: 33 Estimate: 1.9129311827723892\n",
      "Interation number: 34 Estimate: 1.9129311827723892\n",
      "Interation number: 35 Estimate: 1.9129311827723892\n",
      "Interation number: 36 Estimate: 1.9129311827723892\n",
      "Interation number: 37 Estimate: 1.9129311827723892\n",
      "Interation number: 38 Estimate: 1.9129311827723892\n",
      "Interation number: 39 Estimate: 1.9129311827723892\n",
      "Interation number: 40 Estimate: 1.9129311827723892\n",
      "Interation number: 41 Estimate: 1.9129311827723892\n",
      "Interation number: 42 Estimate: 1.9129311827723892\n",
      "Interation number: 43 Estimate: 1.9129311827723892\n",
      "Interation number: 44 Estimate: 1.9129311827723892\n",
      "Interation number: 45 Estimate: 1.9129311827723892\n",
      "Interation number: 46 Estimate: 1.9129311827723892\n",
      "Interation number: 47 Estimate: 1.9129311827723892\n",
      "Interation number: 48 Estimate: 1.9129311827723892\n",
      "Interation number: 49 Estimate: 1.9129311827723892\n"
     ]
    },
    {
     "data": {
      "text/plain": [
       "1.9129311827723892"
      ]
     },
     "execution_count": 87,
     "metadata": {},
     "output_type": "execute_result"
    }
   ],
   "source": [
    "root_print(7,3,2,49)"
   ]
  },
  {
   "cell_type": "markdown",
   "metadata": {},
   "source": [
    "It took one iteration for the first three digits to stabilize to 1.912"
   ]
  },
  {
   "cell_type": "markdown",
   "metadata": {
    "tags": [
     "exercise"
    ]
   },
   "source": [
    "## Fibonacci Words\n",
    "\n",
    "A [Fibonacci word](https://en.wikipedia.org/wiki/Fibonacci_word) is a string of 0s and 1s constructed by repeatedly concatenating strings. The first two words are\n",
    "\n",
    "```\n",
    "S0 = \"0\"\n",
    "S1 = \"01\"\n",
    "```\n",
    "\n",
    "Then each word is formed by concatenating the previous two words in the sequence. For instance, `S2`, is formed by concatenating `S1` and `S0`. So\n",
    "\n",
    "```\n",
    "S2 = \"010\"\n",
    "S3 = \"01001\"\n",
    "```\n",
    "\n",
    "__Exercise 1.9 (20 points).__ Write a function `fib` that computes Fibonacci words. Your function should take an argument `n` that specifies which word to compute.\n",
    "\n",
    "Use your function to print the first 9 Fibonacci words.\n"
   ]
  },
  {
   "cell_type": "code",
   "execution_count": 7,
   "metadata": {},
   "outputs": [
    {
     "name": "stdout",
     "output_type": "stream",
     "text": [
      "0\n",
      "01\n",
      "010\n",
      "01001\n",
      "01001010\n",
      "0100101001001\n",
      "010010100100101001010\n",
      "0100101001001010010100100101001001\n",
      "0100101001001010010100100101001001010010100100101001010\n"
     ]
    }
   ],
   "source": [
    "def fib(n):\n",
    "    '''\n",
    "    This function takes an int as input and prints a specific number of Fibonacci words. \n",
    "    \n",
    "    Parameters:\n",
    "        n (int): An int specifiying the number of Fibonacci words to be printed \n",
    "        \n",
    "    Returns:\n",
    "        None\n",
    "        \n",
    "    '''\n",
    "    # initialize fib word list\n",
    "    fib_words = [\"0\",\"01\"]\n",
    "    for i in range(n):\n",
    "        # print current fib word\n",
    "        print(fib_words[i])\n",
    "        # exclude base case\n",
    "        if i != 0:\n",
    "            # construct the next fib word based on the current and prevous fib words\n",
    "            fib_words.append(fib_words[i] + fib_words[i - 1])\n",
    "fib(9)\n",
    "        \n",
    "    "
   ]
  }
 ],
 "metadata": {
  "celltoolbar": "Tags",
  "kernelspec": {
   "display_name": "Python 3 (ipykernel)",
   "language": "python",
   "name": "python3"
  },
  "language_info": {
   "codemirror_mode": {
    "name": "ipython",
    "version": 3
   },
   "file_extension": ".py",
   "mimetype": "text/x-python",
   "name": "python",
   "nbconvert_exporter": "python",
   "pygments_lexer": "ipython3",
   "version": "3.9.13"
  }
 },
 "nbformat": 4,
 "nbformat_minor": 2
}
