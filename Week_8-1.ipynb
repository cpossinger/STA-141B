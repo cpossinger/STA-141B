{
 "cells": [
  {
   "cell_type": "markdown",
   "metadata": {},
   "source": [
    "# STA 141B Lecture 14\n",
    "\n",
    "February 28, 2023\n",
    "\n",
    "\n",
    "### Topics\n",
    "\n",
    "* Databases & SQL\n",
    "\n",
    "### Datasets\n",
    "\n",
    "* The Suppliers Database\n",
    "\n",
    "### References\n",
    "\n",
    "* [W3 Schools SQL Tutorial](https://www.w3schools.com/sql/)\n",
    "* [SQL Cheatsheet](https://www.sqltutorial.org/sql-cheat-sheet/)\n",
    "\n",
    "[PDSH]: https://jakevdp.github.io/PythonDataScienceHandbook/\n",
    "[ProGit]: https://git-scm.com/book/\n",
    "[nlpp]: https://www.nltk.org/book/\n",
    "[atap]: https://search.library.ucdavis.edu/primo-explore/fulldisplay?docid=01UCD_ALMA51320822340003126&context=L&vid=01UCD_V1&search_scope=everything_scope&tab=default_tab&lang=en_US"
   ]
  },
  {
   "cell_type": "code",
   "execution_count": null,
   "metadata": {},
   "outputs": [],
   "source": [
    "import numpy as np\n",
    "import pandas as pd\n",
    "\n",
    "import sqlite3 as sql"
   ]
  },
  {
   "cell_type": "code",
   "execution_count": null,
   "metadata": {},
   "outputs": [],
   "source": [
    "db = sql.connect(\"data/suppliers.sqlite\")"
   ]
  },
  {
   "cell_type": "code",
   "execution_count": null,
   "metadata": {},
   "outputs": [],
   "source": [
    "pd.read_sql(\"SELECT * FROM sqlite_master;\", db)"
   ]
  },
  {
   "cell_type": "code",
   "execution_count": null,
   "metadata": {},
   "outputs": [],
   "source": [
    "pd.read_sql(\"SELECT * FROM parts;\", db)"
   ]
  },
  {
   "cell_type": "markdown",
   "metadata": {},
   "source": [
    "### `WHERE`\n",
    "\n",
    "`WHERE` puts conditions on the rows returned. `WHERE` is the SQL equivalent of subsetting.\n",
    "\n",
    "You can use `=` to test equality. Other comparison operators, such as `>=`, are also available."
   ]
  },
  {
   "cell_type": "code",
   "execution_count": null,
   "metadata": {},
   "outputs": [],
   "source": [
    "pd.read_sql(\"SELECT * FROM parts WHERE weight = 17\", db)"
   ]
  },
  {
   "cell_type": "markdown",
   "metadata": {},
   "source": [
    "You can use `AND` and `OR` to combine conditions. You can also use parenthesis to indicate the order of operations."
   ]
  },
  {
   "cell_type": "code",
   "execution_count": null,
   "metadata": {},
   "outputs": [],
   "source": [
    "pd.read_sql(\"SELECT * FROM parts WHERE city = 'London' OR color = 'Red';\", db)"
   ]
  },
  {
   "cell_type": "markdown",
   "metadata": {},
   "source": [
    "You can use `IN` to check whether a value is in a collection of values."
   ]
  },
  {
   "cell_type": "code",
   "execution_count": null,
   "metadata": {},
   "outputs": [],
   "source": [
    "pd.read_sql(\"SELECT * FROM parts WHERE city IN ('Paris', 'London');\", db)"
   ]
  },
  {
   "cell_type": "markdown",
   "metadata": {},
   "source": [
    "SQL's `LIKE` keyword does simple pattern-matching language for strings. This is less powerful than regular expressions, but still useful.\n",
    "\n",
    "* `%` matches zero or more of any character, similar to regex `.*`\n",
    "* `_` matches any one character, similar to regex `.`\n",
    "\n",
    "In other databases (but not SQLite):\n",
    "* `[]` matches any one of the characters you put inside the brackects, identical to regex `[]`"
   ]
  },
  {
   "cell_type": "code",
   "execution_count": null,
   "metadata": {},
   "outputs": [],
   "source": [
    "pd.read_sql(\"SELECT * FROM parts WHERE city LIKE '%s';\", db)"
   ]
  },
  {
   "cell_type": "code",
   "execution_count": null,
   "metadata": {},
   "outputs": [],
   "source": [
    "pd.read_sql(\"SELECT * FROM parts WHERE city LIKE 'Pari_';\", db)"
   ]
  },
  {
   "cell_type": "markdown",
   "metadata": {},
   "source": [
    "The `BETWEEN` keyword is useful for selecting ranges."
   ]
  },
  {
   "cell_type": "code",
   "execution_count": null,
   "metadata": {},
   "outputs": [],
   "source": [
    "pd.read_sql(\"SELECT * FROM parts WHERE weight BETWEEN 14 AND 20;\", db)"
   ]
  },
  {
   "cell_type": "markdown",
   "metadata": {},
   "source": [
    "### Operators\n",
    "\n",
    "You can use arithmetic operators `+`, `-`, `*`, `\\`, `%` on SQL columns to perform columnwise computations. These are the SQL equivalent of vectorized arithmetic."
   ]
  },
  {
   "cell_type": "code",
   "execution_count": null,
   "metadata": {},
   "outputs": [],
   "source": [
    "pd.read_sql(\"SELECT weight * weight AS squared_weight, * FROM parts;\", db)"
   ]
  },
  {
   "cell_type": "code",
   "execution_count": null,
   "metadata": {},
   "outputs": [],
   "source": [
    "pd.read_sql(\"SELECT weight * weight AS squared_weight, * FROM parts WHERE squared_weight > 300;\", db)"
   ]
  },
  {
   "cell_type": "markdown",
   "metadata": {},
   "source": [
    "### `AS`\n",
    "\n",
    "You can rename a column with the `AS` keyword. This keyword is especially useful together with SQL arithmetic operators and functions."
   ]
  },
  {
   "cell_type": "markdown",
   "metadata": {},
   "source": [
    "### Functions & Aggregation\n",
    "\n",
    "SQL has built-in functions, which vary from one DBMS to another. The SQL cheatsheet lists most of the functions supported by SQLite.\n",
    "\n",
    "Most SQL functions aggregate data in a column, summarizing that column somehow."
   ]
  },
  {
   "cell_type": "code",
   "execution_count": null,
   "metadata": {},
   "outputs": [],
   "source": [
    "pd.read_sql(\"SELECT COUNT(*) FROM parts;\", db)"
   ]
  },
  {
   "cell_type": "code",
   "execution_count": null,
   "metadata": {},
   "outputs": [],
   "source": [
    "pd.read_sql(\"SELECT UPPER(City), * FROM parts LIMIT 3;\", db)"
   ]
  },
  {
   "cell_type": "markdown",
   "metadata": {},
   "source": [
    "### `GROUP BY`\n",
    "\n",
    "The `GROUP BY` keyword groups rows before they are aggregated. `GROUP BY` is the SQL equivalent of Pandas' `.groupby()` method."
   ]
  },
  {
   "cell_type": "code",
   "execution_count": null,
   "metadata": {
    "scrolled": true
   },
   "outputs": [],
   "source": [
    "pd.read_sql(\"SELECT AVG(weight) FROM parts;\", db)"
   ]
  },
  {
   "cell_type": "code",
   "execution_count": null,
   "metadata": {},
   "outputs": [],
   "source": [
    "pd.read_sql(\"SELECT AVG(weight), city FROM parts GROUP BY city;\", db)"
   ]
  },
  {
   "cell_type": "code",
   "execution_count": null,
   "metadata": {},
   "outputs": [],
   "source": [
    "pd.read_sql(\"SELECT AVG(weight), city, partname FROM parts GROUP BY city, partname;\", db)"
   ]
  },
  {
   "cell_type": "markdown",
   "metadata": {},
   "source": [
    "### `HAVING`\n",
    "\n",
    "The `WHERE` keyword puts conditions on the rows returned _before computing any aggregate functions._ So use `WHERE` to remove rows before aggregation.\n",
    "\n",
    "The `HAVING` keyword puts conditions on the rows returned _after computing any aggregate functions._ So use `HAVING` to remove rows after aggregation. `HAVING` is most useful for conditions on the result of an aggregate."
   ]
  },
  {
   "cell_type": "code",
   "execution_count": null,
   "metadata": {
    "scrolled": true
   },
   "outputs": [],
   "source": [
    "# It's an error to use WHERE to put a condition on an aggregated column.\n",
    "pd.read_sql(\"SELECT AVG(weight) AS avg_weight, city FROM parts GROUP BY city WHERE avg_weight > 15\", db)"
   ]
  },
  {
   "cell_type": "code",
   "execution_count": null,
   "metadata": {},
   "outputs": [],
   "source": [
    "pd.read_sql(\"SELECT AVG(weight) AS avg_weight, city FROM parts GROUP BY city HAVING avg_weight > 15\", db)"
   ]
  },
  {
   "cell_type": "markdown",
   "metadata": {},
   "source": [
    "### Joins\n",
    "\n",
    "A `JOIN` combines two tables using a column they have in common. `JOIN` is the SQL equivalent of Pandas' `.join()` method and `pd.merge()` function."
   ]
  },
  {
   "cell_type": "code",
   "execution_count": null,
   "metadata": {},
   "outputs": [],
   "source": [
    "pd.read_sql(\"SELECT * FROM supplierparts\", db)"
   ]
  },
  {
   "cell_type": "code",
   "execution_count": null,
   "metadata": {},
   "outputs": [],
   "source": [
    "pd.read_sql(\"\"\"\n",
    "    SELECT * FROM\n",
    "    supplierparts\n",
    "    LEFT JOIN\n",
    "    parts\n",
    "    ON supplierparts.partid = parts.partid\n",
    "\"\"\", db)"
   ]
  },
  {
   "cell_type": "markdown",
   "metadata": {},
   "source": [
    "SQLite supports two kinds of joins:\n",
    "* Left join (`LEFT JOIN`): Keep all rows from the left table, merging rows from the right.\n",
    "* Inner join (`INNER JOIN`): Keep only rows where there is a match.\n",
    "\n",
    "Other DBMSes sometimes support two more kinds of joins:\n",
    "* Right join: Keep all rows from the right table, merging rows from the left.\n",
    "* Full join: Keep all rows from both tables, merging where there are matches."
   ]
  },
  {
   "cell_type": "code",
   "execution_count": null,
   "metadata": {},
   "outputs": [],
   "source": [
    "pd.read_sql(\"SELECT * FROM suppliers\", db)"
   ]
  },
  {
   "cell_type": "code",
   "execution_count": null,
   "metadata": {},
   "outputs": [],
   "source": [
    "pd.read_sql(\"\"\"\n",
    "    SELECT * FROM\n",
    "    supplierparts AS l\n",
    "    INNER JOIN\n",
    "    suppliers AS r\n",
    "    ON l.supplierid = r.supplierid;\n",
    "\"\"\", db)"
   ]
  },
  {
   "cell_type": "code",
   "execution_count": null,
   "metadata": {},
   "outputs": [],
   "source": [
    "pd.read_sql(\"\"\"\n",
    "    SELECT l.qty, r.* FROM\n",
    "    supplierparts AS l\n",
    "    LEFT JOIN\n",
    "    suppliers AS r\n",
    "    ON l.supplierid = r.supplierid;\n",
    "\"\"\", db)"
   ]
  },
  {
   "cell_type": "markdown",
   "metadata": {},
   "source": [
    "### Subqueries\n",
    "\n",
    "You can write one or more `SELECT` queries within another:"
   ]
  },
  {
   "cell_type": "code",
   "execution_count": null,
   "metadata": {},
   "outputs": [],
   "source": [
    "pd.read_sql(\"\"\"\n",
    "    SELECT * FROM\n",
    "        (SELECT l.*, r.supplierid, r.qty FROM\n",
    "        parts AS l\n",
    "        INNER JOIN\n",
    "        supplierparts AS r\n",
    "        ON l.partid = r.partid) AS a\n",
    "    INNER JOIN\n",
    "        (SELECT * FROM suppliers\n",
    "        WHERE status > 10) AS b\n",
    "    ON a.supplierid = b.supplierid;\n",
    "\"\"\", db)"
   ]
  },
  {
   "cell_type": "code",
   "execution_count": null,
   "metadata": {},
   "outputs": [],
   "source": [
    "# You can paste strings into SQL queries, but make sure the string you paste in isn't\n",
    "# compromised (e.g., user input)\n",
    "val = pd.read_sql(\"SELECT AVG(weight) FROM parts\", db).iloc[0, 0]\n",
    "query = \"SELECT * FROM parts WHERE weight > {}\".format(val)\n",
    "pd.read_sql(query, db)"
   ]
  },
  {
   "cell_type": "code",
   "execution_count": null,
   "metadata": {},
   "outputs": [],
   "source": [
    "pd.read_sql(\"\"\"\n",
    "    SELECT * FROM parts WHERE weight > (\n",
    "        SELECT AVG(weight) FROM parts\n",
    "    )\n",
    "\"\"\", db)"
   ]
  },
  {
   "cell_type": "markdown",
   "metadata": {},
   "source": [
    "### Database Operations: CRUD\n",
    "\n",
    "So far we've only learned 1/4 of the basic operations most databases support. They are:\n",
    "\n",
    "* Create (`CREATE`): Create a new table.\n",
    "* Read (`SELECT`): Read some rows from a table.\n",
    "* Update (`UPDATE`): Update rows in a table.\n",
    "* Delete (`DROP`): Delete a table.\n",
    "\n",
    "For data analysis, you'll usually only need to read data.\n",
    "\n",
    "Once in a while, it can be useful to create tables to store complicated results. We have to go back to __sqlite3__ to run SQL commands other than `SELECT`."
   ]
  },
  {
   "cell_type": "code",
   "execution_count": null,
   "metadata": {},
   "outputs": [],
   "source": [
    "result = db.execute(\"\"\"\n",
    "    CREATE TEMPORARY TABLE table2 AS\n",
    "        SELECT l.*, r.qty, r.supplierid FROM\n",
    "            parts AS l\n",
    "        INNER JOIN\n",
    "            supplierparts AS r\n",
    "        ON l.partid = r.partid\n",
    "\"\"\")\n",
    "\n",
    "# Force the database to run (\"commit\") the query.\n",
    "# Otherwise the database evaluates queries lazily, so the table will not show up.\n",
    "db.commit()"
   ]
  },
  {
   "cell_type": "code",
   "execution_count": null,
   "metadata": {},
   "outputs": [],
   "source": [
    "pd.read_sql(\"SELECT * FROM table2\", db)"
   ]
  },
  {
   "cell_type": "code",
   "execution_count": null,
   "metadata": {},
   "outputs": [],
   "source": [
    "pd.read_sql(\"SELECT * FROM sqlite_master\", db)"
   ]
  },
  {
   "cell_type": "code",
   "execution_count": null,
   "metadata": {},
   "outputs": [],
   "source": [
    "db.execute(\"DROP TABLE my_table;\")\n",
    "\n",
    "db.commit()"
   ]
  },
  {
   "cell_type": "markdown",
   "metadata": {},
   "source": [
    "## Other Databases\n",
    "\n",
    "You can use the __sqlalchemy__ package to connect to many different kinds of databases (not only SQLite).\n",
    "\n",
    "The `sqlalchemy.create_engine()` function creates an _engine_ to connect to a database. The `.raw_connection()` method on the returned engine opens a connection compatible with Pandas.\n",
    "\n",
    "See the __sqlalchemy__ documentation for more info about [how to write a database URL](https://docs.sqlalchemy.org/en/latest/core/engines.html#database-urls)."
   ]
  },
  {
   "cell_type": "code",
   "execution_count": null,
   "metadata": {},
   "outputs": [],
   "source": [
    "import sqlalchemy\n",
    "\n",
    "engine = sqlalchemy.create_engine(\"sqlite:///data/suppliers.sqlite\")\n",
    "conn = engine.raw_connection()"
   ]
  },
  {
   "cell_type": "code",
   "execution_count": null,
   "metadata": {},
   "outputs": [],
   "source": [
    "conn"
   ]
  },
  {
   "cell_type": "code",
   "execution_count": null,
   "metadata": {},
   "outputs": [],
   "source": [
    "pd.read_sql(\"SELECT * FROM sqlite_master\", conn)"
   ]
  },
  {
   "cell_type": "code",
   "execution_count": null,
   "metadata": {},
   "outputs": [],
   "source": [
    "engine.table_names()"
   ]
  },
  {
   "cell_type": "code",
   "execution_count": null,
   "metadata": {},
   "outputs": [],
   "source": [
    "conn.close()"
   ]
  },
  {
   "cell_type": "markdown",
   "metadata": {},
   "source": [
    "Unlike SQLite, most databases:\n",
    "\n",
    "* Are not stored in a single file.\n",
    "* Have a client-server design, where you connect to the database by logging in with a username and password."
   ]
  }
 ],
 "metadata": {
  "kernelspec": {
   "display_name": "Python 3 (ipykernel)",
   "language": "python",
   "name": "python3"
  },
  "language_info": {
   "codemirror_mode": {
    "name": "ipython",
    "version": 3
   },
   "file_extension": ".py",
   "mimetype": "text/x-python",
   "name": "python",
   "nbconvert_exporter": "python",
   "pygments_lexer": "ipython3",
   "version": "3.9.13"
  }
 },
 "nbformat": 4,
 "nbformat_minor": 2
}
