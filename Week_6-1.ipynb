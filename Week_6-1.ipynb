{
 "cells": [
  {
   "cell_type": "markdown",
   "metadata": {},
   "source": [
    "# STA 141B Lecture 10\n",
    "\n",
    "February 14, 2023\n",
    "\n",
    "### Announcements\n",
    "\n",
    "* HW3 posted, due next Friday\n",
    "\n",
    "### Topics\n",
    "\n",
    "* Web Scraping\n",
    "* Beautiful soup\n",
    "\n",
    "### Datasets\n",
    "\n",
    "* [wiki](https://en.wikipedia.org/wiki/List_of_United_States_cities_by_area)\n",
    "* [Worldometers](https://www.worldometers.info/coronavirus/)\n",
    "* [Craigslist Apartments](https://sacramento.craigslist.org/d/apts-housing-for-rent/search/apa)\n",
    "\n",
    "### References\n",
    "\n",
    "+ Web Scraping\n",
    "    * [MDN HTML Reference](https://developer.mozilla.org/en-US/docs/Web/HTML/Element)\n",
    "    * [XPath Diner](http://www.topswagcode.com/xpath/) -- an interactive XPath tutorial\n",
    "    * [CSS Diner](https://flukeout.github.io/) -- an interactive CSS Selector tutorial\n",
    "+ Natural Language Processing\n",
    "    * [Natural Language Processing with Python][nlpp], chapters 1-3. Beware: the print version is for Python 2.\n",
    "    * [Applied Text Analysis with Python][atap], chapters 1, 3.\n",
    "\n",
    "[PDSH]: https://jakevdp.github.io/PythonDataScienceHandbook/\n",
    "[ProGit]: https://git-scm.com/book/\n",
    "[nlpp]: https://www.nltk.org/book/\n",
    "[atap]: https://search.library.ucdavis.edu/primo-explore/fulldisplay?docid=01UCD_ALMA51320822340003126&context=L&vid=01UCD_V1&search_scope=everything_scope&tab=default_tab&lang=en_US"
   ]
  },
  {
   "cell_type": "markdown",
   "metadata": {},
   "source": [
    "## Web Scraping"
   ]
  },
  {
   "cell_type": "markdown",
   "metadata": {},
   "source": [
    "### Example 1: Getting tables from wikipedia\n",
    "\n",
    "For data in a `table` element, we can use __Pandas__ instead of writing a scraper.\n",
    "\n",
    "Wikipedia provides lots of useful information in tables. Let's get the Wikipedia list of [US cities by area][wiki].\n",
    "\n",
    "[wiki]: https://en.wikipedia.org/wiki/List_of_United_States_cities_by_area"
   ]
  },
  {
   "cell_type": "code",
   "execution_count": 2,
   "metadata": {},
   "outputs": [],
   "source": [
    "import pandas as pd"
   ]
  },
  {
   "cell_type": "code",
   "execution_count": null,
   "metadata": {},
   "outputs": [],
   "source": [
    "tabs = pd.read_html(\"https://en.wikipedia.org/wiki/List_of_United_States_cities_by_area\")"
   ]
  },
  {
   "cell_type": "code",
   "execution_count": null,
   "metadata": {},
   "outputs": [],
   "source": []
  },
  {
   "cell_type": "code",
   "execution_count": null,
   "metadata": {},
   "outputs": [],
   "source": []
  },
  {
   "cell_type": "code",
   "execution_count": null,
   "metadata": {},
   "outputs": [],
   "source": [
    "def strip_footnote(x):\n",
    "    \"\"\"This function removes bracketed footnotes, such as '[1]'.\"\"\"\n",
    "    if pd.isna(x):\n",
    "        return x\n",
    "    \n",
    "    return x.partition(\"[\")[0]"
   ]
  },
  {
   "cell_type": "code",
   "execution_count": null,
   "metadata": {},
   "outputs": [],
   "source": [
    "# combine table headers into a row and remove footnote"
   ]
  },
  {
   "cell_type": "code",
   "execution_count": null,
   "metadata": {},
   "outputs": [],
   "source": []
  },
  {
   "cell_type": "code",
   "execution_count": null,
   "metadata": {},
   "outputs": [],
   "source": []
  },
  {
   "cell_type": "code",
   "execution_count": null,
   "metadata": {},
   "outputs": [],
   "source": [
    "# Apply a function to a Dataframe elementwise (.applymap)\n",
    "\n",
    "tbl = tbl.applymap(strip_footnote) \n",
    "\n",
    "# do not work, why?"
   ]
  },
  {
   "cell_type": "code",
   "execution_count": null,
   "metadata": {},
   "outputs": [],
   "source": []
  },
  {
   "cell_type": "code",
   "execution_count": null,
   "metadata": {},
   "outputs": [],
   "source": []
  },
  {
   "cell_type": "code",
   "execution_count": null,
   "metadata": {},
   "outputs": [],
   "source": []
  },
  {
   "cell_type": "code",
   "execution_count": null,
   "metadata": {},
   "outputs": [],
   "source": []
  },
  {
   "cell_type": "code",
   "execution_count": null,
   "metadata": {},
   "outputs": [],
   "source": []
  },
  {
   "cell_type": "code",
   "execution_count": null,
   "metadata": {},
   "outputs": [],
   "source": []
  },
  {
   "cell_type": "code",
   "execution_count": null,
   "metadata": {},
   "outputs": [],
   "source": []
  },
  {
   "cell_type": "code",
   "execution_count": null,
   "metadata": {},
   "outputs": [],
   "source": []
  },
  {
   "cell_type": "code",
   "execution_count": null,
   "metadata": {},
   "outputs": [],
   "source": []
  },
  {
   "cell_type": "markdown",
   "metadata": {},
   "source": [
    "### Exercise: get table from https://en.wikipedia.org/wiki/List_of_cities_by_GDP"
   ]
  },
  {
   "cell_type": "code",
   "execution_count": 19,
   "metadata": {},
   "outputs": [],
   "source": [
    "cities_GDP = pd.read_html(\"https://en.wikipedia.org/wiki/List_of_cities_by_GDP\")"
   ]
  },
  {
   "cell_type": "code",
   "execution_count": 4,
   "metadata": {},
   "outputs": [
    {
     "data": {
      "text/plain": [
       "4"
      ]
     },
     "execution_count": 4,
     "metadata": {},
     "output_type": "execute_result"
    }
   ],
   "source": [
    "len(cities_GDP)"
   ]
  },
  {
   "cell_type": "code",
   "execution_count": 20,
   "metadata": {},
   "outputs": [
    {
     "data": {
      "text/plain": [
       "[    Rank (PPP)  Rank (nominal)     Metropolitan area  Country/region  \\\n",
       " 0          1.0             1.0                 Tokyo           Japan   \n",
       " 1          2.0             2.0              New York   United States   \n",
       " 2          3.0             3.0           Los Angeles   United States   \n",
       " 3          4.0             6.0                 Seoul     South Korea   \n",
       " 4          5.0             5.0                 Paris          France   \n",
       " 5          6.0             4.0                London  United Kingdom   \n",
       " 6          7.0            10.0              Shanghai           China   \n",
       " 7          8.0            16.0                Moscow          Russia   \n",
       " 8          9.0            12.0               Beijing           China   \n",
       " 9         10.0             8.0            Osaka–Kobe           Japan   \n",
       " 10        11.0            50.0              Istanbul          Turkey   \n",
       " 11        12.0            34.0               Jakarta       Indonesia   \n",
       " 12        13.0             7.0               Chicago   United States   \n",
       " 13        14.0            18.0              Shenzhen           China   \n",
       " 14        15.0             9.0            Rhine-Ruhr         Germany   \n",
       " 15        16.0            25.0             Guangzhou           China   \n",
       " 16        17.0            24.0             Chongqing           China   \n",
       " 17        18.0            39.0                Mumbai           India   \n",
       " 18        19.0            29.0             Singapore       Singapore   \n",
       " 19        20.0            40.0                 Delhi           India   \n",
       " 20        21.0            11.0         San Francisco   United States   \n",
       " 21        22.0            23.0                Taipei          Taiwan   \n",
       " 22        23.0            43.0             São Paulo          Brazil   \n",
       " 23        24.0            13.0      Washington, D.C.   United States   \n",
       " 24        25.0            46.0               Bangkok        Thailand   \n",
       " 25        26.0            47.0           Mexico City          Mexico   \n",
       " 26        27.0            35.0                Suzhou           China   \n",
       " 27        28.0            14.0     Dallas–Fort Worth   United States   \n",
       " 28        29.0            15.0                Boston   United States   \n",
       " 29        30.0            17.0               Houston   United States   \n",
       " 30        31.0            44.0               Chengdu           China   \n",
       " 31        32.0            20.0               Toronto          Canada   \n",
       " 32        33.0            30.0             Hong Kong       Hong Kong   \n",
       " 33        34.0            19.0          Philadelphia   United States   \n",
       " 34        35.0             NaN          Buenos Aires       Argentina   \n",
       " 35        36.0            21.0               Seattle   United States   \n",
       " 36        37.0            22.0               Atlanta   United States   \n",
       " 37        38.0             NaN                 Wuhan           China   \n",
       " 38        39.0             NaN                 Dhaka      Bangladesh   \n",
       " 39        40.0            32.0                 Milan           Italy   \n",
       " 40        41.0            28.0                Nagoya           Japan   \n",
       " 41        42.0            49.0              Hangzhou           China   \n",
       " 42        43.0            27.0                 Miami   United States   \n",
       " 43        44.0            37.0                Madrid           Spain   \n",
       " 44        45.0            52.0               Tianjin           China   \n",
       " 45        46.0             NaN               Nanjing           China   \n",
       " 46        47.0            26.0                Sydney       Australia   \n",
       " 47        48.0            33.0             Melbourne       Australia   \n",
       " 48        49.0            33.0             San Diego   United States   \n",
       " 49        50.0            38.0               Phoenix   United States   \n",
       " 50         NaN            41.0  Minneapolis-St. Paul   United States   \n",
       " 51         NaN            42.0               Detroit   United States   \n",
       " 52         NaN            45.0  Busan–Gyeongnam Area     South Korea   \n",
       " 53         NaN            48.0                Munich         Germany   \n",
       " 54         NaN            51.0                Berlin         Germany   \n",
       " \n",
       "             UNSD subregion[4]  \\\n",
       " 0                Eastern Asia   \n",
       " 1            Northern America   \n",
       " 2            Northern America   \n",
       " 3                Eastern Asia   \n",
       " 4              Western Europe   \n",
       " 5             Northern Europe   \n",
       " 6                Eastern Asia   \n",
       " 7              Eastern Europe   \n",
       " 8                Eastern Asia   \n",
       " 9                Eastern Asia   \n",
       " 10               Western Asia   \n",
       " 11         South-eastern Asia   \n",
       " 12           Northern America   \n",
       " 13               Eastern Asia   \n",
       " 14             Western Europe   \n",
       " 15               Eastern Asia   \n",
       " 16               Eastern Asia   \n",
       " 17              Southern Asia   \n",
       " 18         South-eastern Asia   \n",
       " 19              Southern Asia   \n",
       " 20           Northern America   \n",
       " 21               Eastern Asia   \n",
       " 22              South America   \n",
       " 23           Northern America   \n",
       " 24         South-eastern Asia   \n",
       " 25           Northern America   \n",
       " 26               Eastern Asia   \n",
       " 27           Northern America   \n",
       " 28           Northern America   \n",
       " 29           Northern America   \n",
       " 30               Eastern Asia   \n",
       " 31           Northern America   \n",
       " 32               Eastern Asia   \n",
       " 33           Northern America   \n",
       " 34              South America   \n",
       " 35           Northern America   \n",
       " 36           Northern America   \n",
       " 37               Eastern Asia   \n",
       " 38              Southern Asia   \n",
       " 39            Southern Europe   \n",
       " 40               Eastern Asia   \n",
       " 41               Eastern Asia   \n",
       " 42           Northern America   \n",
       " 43            Southern Europe   \n",
       " 44               Eastern Asia   \n",
       " 45               Eastern Asia   \n",
       " 46  Australia and New Zealand   \n",
       " 47  Australia and New Zealand   \n",
       " 48           Northern America   \n",
       " 49           Northern America   \n",
       " 50           Northern America   \n",
       " 51           Northern America   \n",
       " 52               Eastern Asia   \n",
       " 53             Western Europe   \n",
       " 54             Western Europe   \n",
       " \n",
       "    Visual Capitalist[5] 2021 est. GDP (million US$)  \\\n",
       " 0                                           2055698   \n",
       " 1                                           1874398   \n",
       " 2                                           1133627   \n",
       " 3                                            926790   \n",
       " 4                                            934168   \n",
       " 5                                            978402   \n",
       " 6                                            661600   \n",
       " 7                                            504808   \n",
       " 8                                            591374   \n",
       " 9                                            699474   \n",
       " 10                                           247312   \n",
       " 11                                           308250   \n",
       " 12                                           714697   \n",
       " 13                                           455694   \n",
       " 14                                           636449   \n",
       " 15                                           405355   \n",
       " 16                                           407562   \n",
       " 17                                           277980   \n",
       " 18                                           374394   \n",
       " 19                                           272603   \n",
       " 20                                           593629   \n",
       " 21                                           407838   \n",
       " 22                                           261642   \n",
       " 23                                           578985   \n",
       " 24                                           252128   \n",
       " 25                                           250455   \n",
       " 26                                           356800   \n",
       " 27                                           523854   \n",
       " 28                                           513211   \n",
       " 29                                           489377   \n",
       " 30                                           260409   \n",
       " 31                                           452492   \n",
       " 32                                           368633   \n",
       " 33                                           455653   \n",
       " 34                                                −   \n",
       " 35                                           444337   \n",
       " 36                                           432009   \n",
       " 37                                           282500   \n",
       " 38                                                −   \n",
       " 39                                           329529   \n",
       " 40                                           379301   \n",
       " 41                                           248721   \n",
       " 42                                           388725   \n",
       " 43                                           280937   \n",
       " 44                                           237900   \n",
       " 45                                           249800   \n",
       " 46                                           398037   \n",
       " 47                                           318677   \n",
       " 48                                           290330   \n",
       " 49                                           341841   \n",
       " 50                                           342373   \n",
       " 51                                           357731   \n",
       " 52                                           252145   \n",
       " 53                                           249764   \n",
       " 54                                           243160   \n",
       " \n",
       "    Visual Capitalist[6] 2021 est. PPP-adjusted GDP (million US$)  \n",
       " 0                                             2205652             \n",
       " 1                                             1874398             \n",
       " 2                                             1133627             \n",
       " 3                                             1125042             \n",
       " 4                                             1075495             \n",
       " 5                                             1064297             \n",
       " 6                                             1018815             \n",
       " 7                                             1004849             \n",
       " 8                                              950671             \n",
       " 9                                              897418             \n",
       " 10                                             858706             \n",
       " 11                                             841605             \n",
       " 12                                             714697             \n",
       " 13                                             704486             \n",
       " 14                                             698982             \n",
       " 15                                             664854             \n",
       " 16                                             657985             \n",
       " 17                                             606625             \n",
       " 18                                             600063             \n",
       " 19                                             594884             \n",
       " 20                                             593629             \n",
       " 21                                             585867             \n",
       " 22                                             583821             \n",
       " 23                                             578985             \n",
       " 24                                             559911             \n",
       " 25                                             547457             \n",
       " 26                                             526904             \n",
       " 27                                             523854             \n",
       " 28                                             513211             \n",
       " 29                                             489377             \n",
       " 30                                             486382             \n",
       " 31                                             475232             \n",
       " 32                                             472395             \n",
       " 33                                             455653             \n",
       " 34                                             444946             \n",
       " 35                                             444337             \n",
       " 36                                             432009             \n",
       " 37                                             409508             \n",
       " 38                                             405872             \n",
       " 39                                             405516             \n",
       " 40                                             403861             \n",
       " 41                                             396722             \n",
       " 42                                             388725             \n",
       " 43                                             376565             \n",
       " 44                                             370885             \n",
       " 45                                             363228             \n",
       " 46                                                  −             \n",
       " 47                                                  −             \n",
       " 48                                                  −             \n",
       " 49                                                  −             \n",
       " 50                                                  −             \n",
       " 51                                                  −             \n",
       " 52                                                  −             \n",
       " 53                                                  −             \n",
       " 54                                                  −             ,\n",
       "      Rank City proper/metropolitan area               Country/region  \\\n",
       " 0     129       Aachen-Liège-Maastricht  Germany Belgium Netherlands   \n",
       " 1    300+  Abbotsford, British Columbia                       Canada   \n",
       " 2    300+                      Aberdeen               United Kingdom   \n",
       " 3    300+                       Abidjan                  Ivory Coast   \n",
       " 4     108                     Abu Dhabi         United Arab Emirates   \n",
       " ..    ...                           ...                          ...   \n",
       " 405    89                     Zhengzhou                        China   \n",
       " 406   230                     Zhongshan                        China   \n",
       " 407   285                        Zhuhai                        China   \n",
       " 408   177                          Zibo                        China   \n",
       " 409   119                        Zürich                  Switzerland   \n",
       " \n",
       "     UNSD sub‑region[4] Official est. GDP up to date (billion US$)  \\\n",
       " 0       Western Europe                                        NaN   \n",
       " 1        North America                       6.119 (2018)[10][11]   \n",
       " 2      Northern Europe                            23.0 (2020)[13]   \n",
       " 3               Africa                              27 (2017)[15]   \n",
       " 4         Western Asia                             119 (2015)[17]   \n",
       " ..                 ...                                        ...   \n",
       " 405       Eastern Asia                             144 (2018)[31]   \n",
       " 406       Eastern Asia                            51.1 (2017)[31]   \n",
       " 407       Eastern Asia                            38.0 (2017)[31]   \n",
       " 408       Eastern Asia                            70.8 (2017)[31]   \n",
       " 409     Western Europe                                        NaN   \n",
       " \n",
       "     Brookings[7] 2014 est. PPP-adjusted GDP (billion US$)  \\\n",
       " 0                                               99.728      \n",
       " 1                                                  NaN      \n",
       " 2                                                  NaN      \n",
       " 3                                                  NaN      \n",
       " 4                                              178.256      \n",
       " ..                                                 ...      \n",
       " 405                                            155.696      \n",
       " 406                                             68.682      \n",
       " 407                                             41.338      \n",
       " 408                                            100.274      \n",
       " 409                                            109.065      \n",
       " \n",
       "                                Metropolitan population  \\\n",
       " 0    3,500,000 (2014)[8] metropolitan population fo...   \n",
       " 1                                   205,847 (2021)[12]   \n",
       " 2                                   489,840 (2020)[14]   \n",
       " 3                                 5,950,000 (2022)[16]   \n",
       " 4                                 1,660,000 (2022)[16]   \n",
       " ..                                                 ...   \n",
       " 405                               8,950,000 (2022)[16]   \n",
       " 406                              4,418,060 (2020)[188]   \n",
       " 407                               2,325,000 (2022)[16]   \n",
       " 408                               3,725,000 (2022)[16]   \n",
       " 409                               1,470,000 (2022)[16]   \n",
       " \n",
       "      Official est. GDP per capita  \n",
       " 0                        28493.71  \n",
       " 1                        29725.96  \n",
       " 2                        46957.94  \n",
       " 3                         4537.82  \n",
       " 4                        71686.75  \n",
       " ..                            ...  \n",
       " 405                      16089.39  \n",
       " 406                      11566.16  \n",
       " 407                      16344.09  \n",
       " 408                      19006.71  \n",
       " 409                      74193.88  \n",
       " \n",
       " [410 rows x 8 columns],\n",
       "         Metropolitan area  GDP (billion USD)        Country  \\\n",
       " 0               Hong Kong             368.14      Hong Kong   \n",
       " 1               Singapore             396.99      Singapore   \n",
       " 2              San Marino               1.54     San Marino   \n",
       " 3                   Macau              29.91          Macau   \n",
       " 4   Luxembourg City-Trier              69.45     Luxembourg   \n",
       " ..                    ...                ...            ...   \n",
       " 59                   Kyiv              25.70        Ukraine   \n",
       " 60                Nairobi              14.80          Kenya   \n",
       " 61                 Mumbai             277.98          India   \n",
       " 62               New York            1874.40  United States   \n",
       " 63               Shanghai             680.00          China   \n",
       " \n",
       "     National GDP (billion USD)  % of national GDP  \n",
       " 0                       369.49             99.635  \n",
       " 1                       424.43             93.535  \n",
       " 2                         1.70             90.872  \n",
       " 3                        35.25             84.847  \n",
       " 4                        86.90             79.925  \n",
       " ..                         ...                ...  \n",
       " 59                      198.32             12.959  \n",
       " 60                      114.68             12.906  \n",
       " 61                     3534.74              7.864  \n",
       " 62                    25346.81              7.395  \n",
       " 63                    19911.59              3.415  \n",
       " \n",
       " [64 rows x 5 columns],\n",
       "   .mw-parser-output .navbar{display:inline;font-size:88%;font-weight:normal}.mw-parser-output .navbar-collapse{float:left;text-align:left}.mw-parser-output .navbar-boxtext{word-spacing:0}.mw-parser-output .navbar ul{display:inline-block;white-space:nowrap;line-height:inherit}.mw-parser-output .navbar-brackets::before{margin-right:-0.125em;content:\"[ \"}.mw-parser-output .navbar-brackets::after{margin-left:-0.125em;content:\" ]\"}.mw-parser-output .navbar li{word-spacing:-0.125em}.mw-parser-output .navbar a>span,.mw-parser-output .navbar a>abbr{text-decoration:inherit}.mw-parser-output .navbar-mini abbr{font-variant:small-caps;border-bottom:none;text-decoration:none;cursor:inherit}.mw-parser-output .navbar-ct-full{font-size:114%;margin:0 7em}.mw-parser-output .navbar-ct-mini{font-size:114%;margin:0 4em}vteCities  \\\n",
       " 0                                    Urban geography                                                                                                                                                                                                                                                                                                                                                                                                                                                                                                                                                                                                                                                                                                                                                                                                  \n",
       " 1                                   Urban government                                                                                                                                                                                                                                                                                                                                                                                                                                                                                                                                                                                                                                                                                                                                                                                                  \n",
       " 2                                    Urban economics                                                                                                                                                                                                                                                                                                                                                                                                                                                                                                                                                                                                                                                                                                                                                                                                  \n",
       " 3                                     Urban planning                                                                                                                                                                                                                                                                                                                                                                                                                                                                                                                                                                                                                                                                                                                                                                                                  \n",
       " 4                                   Urban population                                                                                                                                                                                                                                                                                                                                                                                                                                                                                                                                                                                                                                                                                                                                                                                                  \n",
       " 5                                           Urbanism                                                                                                                                                                                                                                                                                                                                                                                                                                                                                                                                                                                                                                                                                                                                                                                                  \n",
       " 6                                        Environment                                                                                                                                                                                                                                                                                                                                                                                                                                                                                                                                                                                                                                                                                                                                                                                                  \n",
       " 7                                      Cities portal                                                                                                                                                                                                                                                                                                                                                                                                                                                                                                                                                                                                                                                                                                                                                                                                  \n",
       " \n",
       "   .mw-parser-output .navbar{display:inline;font-size:88%;font-weight:normal}.mw-parser-output .navbar-collapse{float:left;text-align:left}.mw-parser-output .navbar-boxtext{word-spacing:0}.mw-parser-output .navbar ul{display:inline-block;white-space:nowrap;line-height:inherit}.mw-parser-output .navbar-brackets::before{margin-right:-0.125em;content:\"[ \"}.mw-parser-output .navbar-brackets::after{margin-left:-0.125em;content:\" ]\"}.mw-parser-output .navbar li{word-spacing:-0.125em}.mw-parser-output .navbar a>span,.mw-parser-output .navbar a>abbr{text-decoration:inherit}.mw-parser-output .navbar-mini abbr{font-variant:small-caps;border-bottom:none;text-decoration:none;cursor:inherit}.mw-parser-output .navbar-ct-full{font-size:114%;margin:0 7em}.mw-parser-output .navbar-ct-mini{font-size:114%;margin:0 4em}vteCities.1  \n",
       " 0  Urban area City centre Downtown Suburb Exurb C...                                                                                                                                                                                                                                                                                                                                                                                                                                                                                                                                                                                                                                                                                                                                                                                                   \n",
       " 1  City status Municipality direct-controlled Ind...                                                                                                                                                                                                                                                                                                                                                                                                                                                                                                                                                                                                                                                                                                                                                                                                   \n",
       " 2  World's cities by GDP Global city Central busi...                                                                                                                                                                                                                                                                                                                                                                                                                                                                                                                                                                                                                                                                                                                                                                                                   \n",
       " 3  History of urban planning Theories of urban pl...                                                                                                                                                                                                                                                                                                                                                                                                                                                                                                                                                                                                                                                                                                                                                                                                   \n",
       " 4  World's largest cities throughout history Most...                                                                                                                                                                                                                                                                                                                                                                                                                                                                                                                                                                                                                                                                                                                                                                                                   \n",
       " 5  Urban warfare Urban studies Urban morphology U...                                                                                                                                                                                                                                                                                                                                                                                                                                                                                                                                                                                                                                                                                                                                                                                                   \n",
       " 6  Climate change Green urbanism Sustainable city...                                                                                                                                                                                                                                                                                                                                                                                                                                                                                                                                                                                                                                                                                                                                                                                                   \n",
       " 7                                      Cities portal                                                                                                                                                                                                                                                                                                                                                                                                                                                                                                                                                                                                                                                                                                                                                                                                   ]"
      ]
     },
     "execution_count": 20,
     "metadata": {},
     "output_type": "execute_result"
    }
   ],
   "source": [
    "cities_GDP"
   ]
  },
  {
   "cell_type": "code",
   "execution_count": null,
   "metadata": {},
   "outputs": [],
   "source": [
    "tbl_GDP = cities_GDP[1]"
   ]
  },
  {
   "cell_type": "code",
   "execution_count": null,
   "metadata": {},
   "outputs": [],
   "source": [
    "tbl_GDP.head()"
   ]
  },
  {
   "cell_type": "markdown",
   "metadata": {},
   "source": [
    "### Example 2: Worldometers"
   ]
  },
  {
   "cell_type": "markdown",
   "metadata": {},
   "source": [
    "[Beautiful soup](https://www.crummy.com/software/BeautifulSoup/bs4/doc/) is a popular Python library for pulling data out of HTML and XML files."
   ]
  },
  {
   "cell_type": "code",
   "execution_count": null,
   "metadata": {},
   "outputs": [],
   "source": [
    "# html\n",
    "\n",
    "html_doc = \"\"\"<html><head><title>The Dormouse's story</title></head>\n",
    "<body>\n",
    "<p class=\"title\"><b>The Dormouse's story</b></p>\n",
    "\n",
    "<p class=\"story\">Once upon a time there were three little sisters; and their names were\n",
    "<a href=\"http://example.com/elsie\" class=\"sister\" id=\"link1\">Elsie</a>,\n",
    "<a href=\"http://example.com/lacie\" class=\"sister\" id=\"link2\">Lacie</a> and\n",
    "<a href=\"http://example.com/tillie\" class=\"sister\" id=\"link3\">Tillie</a>;\n",
    "and they lived at the bottom of a well.</p>\n",
    "\n",
    "<p class=\"story\">...</p>\n",
    "\"\"\""
   ]
  },
  {
   "cell_type": "code",
   "execution_count": null,
   "metadata": {},
   "outputs": [],
   "source": [
    "html_doc"
   ]
  },
  {
   "cell_type": "markdown",
   "metadata": {},
   "source": [
    "Running the document through Beautiful Soup gives us a BeautifulSoup object, which represents the document as a nested data structure:"
   ]
  },
  {
   "cell_type": "code",
   "execution_count": null,
   "metadata": {},
   "outputs": [],
   "source": [
    "from bs4 import BeautifulSoup\n",
    "soup = BeautifulSoup(html_doc, 'html.parser')\n",
    "\n",
    "print(soup.prettify())\n",
    "# <html>\n",
    "#  <head>\n",
    "#   <title>\n",
    "#    The Dormouse's story\n",
    "#   </title>\n",
    "#  </head>\n",
    "#  <body>\n",
    "#   <p class=\"title\">\n",
    "#    <b>\n",
    "#     The Dormouse's story\n",
    "#    </b>\n",
    "#   </p>\n",
    "#   <p class=\"story\">\n",
    "#    Once upon a time there were three little sisters; and their names were\n",
    "#    <a class=\"sister\" href=\"http://example.com/elsie\" id=\"link1\">\n",
    "#     Elsie\n",
    "#    </a>\n",
    "#    ,\n",
    "#    <a class=\"sister\" href=\"http://example.com/lacie\" id=\"link2\">\n",
    "#     Lacie\n",
    "#    </a>\n",
    "#    and\n",
    "#    <a class=\"sister\" href=\"http://example.com/tillie\" id=\"link3\">\n",
    "#     Tillie\n",
    "#    </a>\n",
    "#    ; and they lived at the bottom of a well.\n",
    "#   </p>\n",
    "#   <p class=\"story\">\n",
    "#    ...\n",
    "#   </p>\n",
    "#  </body>\n",
    "# </html>"
   ]
  },
  {
   "cell_type": "code",
   "execution_count": null,
   "metadata": {},
   "outputs": [],
   "source": [
    "soup.title"
   ]
  },
  {
   "cell_type": "code",
   "execution_count": null,
   "metadata": {},
   "outputs": [],
   "source": [
    "soup.title.name # gives the title name"
   ]
  },
  {
   "cell_type": "code",
   "execution_count": null,
   "metadata": {},
   "outputs": [],
   "source": [
    "soup.title.string"
   ]
  },
  {
   "cell_type": "code",
   "execution_count": null,
   "metadata": {},
   "outputs": [],
   "source": [
    "soup.title.parent.name"
   ]
  },
  {
   "cell_type": "code",
   "execution_count": null,
   "metadata": {},
   "outputs": [],
   "source": [
    "soup.p"
   ]
  },
  {
   "cell_type": "code",
   "execution_count": null,
   "metadata": {},
   "outputs": [],
   "source": [
    "soup.p['class']"
   ]
  },
  {
   "cell_type": "code",
   "execution_count": null,
   "metadata": {},
   "outputs": [],
   "source": [
    "soup.find_all('a')"
   ]
  },
  {
   "cell_type": "code",
   "execution_count": null,
   "metadata": {},
   "outputs": [],
   "source": [
    "soup.find(id=\"link2\")"
   ]
  },
  {
   "cell_type": "code",
   "execution_count": null,
   "metadata": {},
   "outputs": [],
   "source": [
    "import requests\n",
    "\n",
    "# Create an URL object\n",
    "url = 'https://www.worldometers.info/coronavirus/'\n",
    "# Create object page\n",
    "page = requests.get(url)"
   ]
  },
  {
   "cell_type": "code",
   "execution_count": null,
   "metadata": {},
   "outputs": [],
   "source": [
    "# parser-lxml = Change html to Python friendly format\n",
    "# Obtain page's information\n",
    "soup = BeautifulSoup(page.text, 'lxml')\n",
    "soup"
   ]
  },
  {
   "cell_type": "code",
   "execution_count": null,
   "metadata": {},
   "outputs": [],
   "source": [
    "# Obtain information from tag <table>\n",
    "table1 = soup.find('table', id='main_table_countries_today')\n",
    "table1"
   ]
  },
  {
   "cell_type": "code",
   "execution_count": null,
   "metadata": {},
   "outputs": [],
   "source": [
    "# Obtain every title of columns with tag <th>\n",
    "headers = []\n",
    "for i in table1.find_all('th'):\n",
    "    title = i.text\n",
    "    headers.append(title)"
   ]
  },
  {
   "cell_type": "code",
   "execution_count": null,
   "metadata": {},
   "outputs": [],
   "source": [
    "headers"
   ]
  },
  {
   "cell_type": "code",
   "execution_count": null,
   "metadata": {},
   "outputs": [],
   "source": [
    "# Convert wrapped text in column 13 into one line text\n",
    "headers[13] = 'Tests/1M pop'"
   ]
  },
  {
   "cell_type": "code",
   "execution_count": null,
   "metadata": {},
   "outputs": [],
   "source": [
    "# Create a dataframe\n",
    "mydata = pd.DataFrame(columns = headers)"
   ]
  },
  {
   "cell_type": "code",
   "execution_count": null,
   "metadata": {},
   "outputs": [],
   "source": [
    "# Create a for loop to fill mydata\n",
    "for j in table1.find_all('tr')[1:]:\n",
    "    row_data = j.find_all('td')\n",
    "    row = [i.text for i in row_data]\n",
    "    length = len(mydata)\n",
    "    mydata.loc[length] = row"
   ]
  },
  {
   "cell_type": "code",
   "execution_count": null,
   "metadata": {},
   "outputs": [],
   "source": [
    "mydata_final = mydata.loc[range(7, 238), :]"
   ]
  },
  {
   "cell_type": "code",
   "execution_count": null,
   "metadata": {},
   "outputs": [],
   "source": [
    "del mydata_final[\"#\"]"
   ]
  },
  {
   "cell_type": "code",
   "execution_count": null,
   "metadata": {},
   "outputs": [],
   "source": [
    "mydata_final = mydata_final.reset_index(drop = True)"
   ]
  },
  {
   "cell_type": "code",
   "execution_count": null,
   "metadata": {},
   "outputs": [],
   "source": [
    "mydata_final.head()"
   ]
  },
  {
   "cell_type": "code",
   "execution_count": null,
   "metadata": {},
   "outputs": [],
   "source": [
    "# mydata_final.set_index(['Country,Other'])"
   ]
  },
  {
   "cell_type": "markdown",
   "metadata": {},
   "source": [
    "### Example: Craigslist Apartments\n",
    "\n",
    "[Craigslist](https://www.craigslist.org/) is a popular website where people can post advertisements for free. We can use data from Craigslist to analyze the local rental market for apartments.\n",
    "\n",
    "Craigslist doesn't provide an API, so we have to scrape the data ourselves. Scraping Craigslist is the biggest challenge we've faced yet, since each ad is on a separate page.\n",
    "\n",
    "We can start by scraping the front page of the [apartments section](https://sacramento.craigslist.org/d/apts-housing-for-rent/search/apa) for links to individual ads."
   ]
  },
  {
   "cell_type": "code",
   "execution_count": null,
   "metadata": {},
   "outputs": [],
   "source": [
    "import requests"
   ]
  },
  {
   "cell_type": "code",
   "execution_count": null,
   "metadata": {},
   "outputs": [],
   "source": [
    "url = 'https://sacramento.craigslist.org/search/apa'\n",
    "response = session.get(url, headers=my_headers)"
   ]
  },
  {
   "cell_type": "code",
   "execution_count": null,
   "metadata": {},
   "outputs": [],
   "source": [
    "# craigslist_url = \"https://sacramento.craigslist.org/d/apts-housing-for-rent/search/apa\"\n",
    "craigslist_url = \"https://sacramento.craigslist.org/search/apa\"\n",
    "\n",
    "response = requests.get(craigslist_url, auth=('user', 'pass'))\n",
    "response.raise_for_status()\n",
    "html = lx.fromstring(response.text)\n",
    "html.make_links_absolute(craigslist_url)"
   ]
  },
  {
   "cell_type": "markdown",
   "metadata": {},
   "source": [
    "`make_links_absolute(base_href)`: makes all links in the document absolute, assuming that base_href is the URL of the document. So if you pass base_href=\"http://localhost/foo/bar.html\" and there is a link to baz.html that will be rewritten as http://localhost/foo/baz.html.\n",
    "\n",
    "More explanation: [here](https://linuxtut.com/en/e03431c718b94d6304ff/)"
   ]
  },
  {
   "cell_type": "code",
   "execution_count": null,
   "metadata": {},
   "outputs": [],
   "source": [
    "html.text_content()"
   ]
  }
 ],
 "metadata": {
  "kernelspec": {
   "display_name": "Python 3 (ipykernel)",
   "language": "python",
   "name": "python3"
  },
  "language_info": {
   "codemirror_mode": {
    "name": "ipython",
    "version": 3
   },
   "file_extension": ".py",
   "mimetype": "text/x-python",
   "name": "python",
   "nbconvert_exporter": "python",
   "pygments_lexer": "ipython3",
   "version": "3.9.13"
  }
 },
 "nbformat": 4,
 "nbformat_minor": 2
}
